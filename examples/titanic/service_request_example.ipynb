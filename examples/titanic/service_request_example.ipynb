{
 "cells": [
  {
   "cell_type": "code",
   "execution_count": null,
   "id": "af36de61-ad7f-4f28-9e8f-4fba36bfa79b",
   "metadata": {},
   "outputs": [],
   "source": [
    "import sys\n",
    "sys.path.append(\"../../\")\n",
    "sys.path.append(\"../../outboxml\")\n"
   ]
  },
  {
   "cell_type": "code",
   "execution_count": null,
   "id": "4f9fec3e-5c9b-4206-ba3b-d0214d7c4300",
   "metadata": {},
   "outputs": [],
   "source": [
    "import requests\n",
    "request = requests.post(\n",
    "        \"http://127.0.0.0:8000/api/predict\",\n",
    "        headers={\"Content-Type\": \"application/json\"},\n",
    "        json={\n",
    "\n",
    "            \"main_request\": []\n",
    "        }\n",
    "    )"
   ]
  },
  {
   "cell_type": "code",
   "execution_count": null,
   "id": "0a16d1c4-8ce1-4469-99f7-aa62c50c8ecf",
   "metadata": {},
   "outputs": [],
   "source": []
  }
 ],
 "metadata": {
  "kernelspec": {
   "display_name": "Python 3 (ipykernel)",
   "language": "python",
   "name": "python3"
  },
  "language_info": {
   "codemirror_mode": {
    "name": "ipython",
    "version": 3
   },
   "file_extension": ".py",
   "mimetype": "text/x-python",
   "name": "python",
   "nbconvert_exporter": "python",
   "pygments_lexer": "ipython3",
   "version": "3.11.6"
  }
 },
 "nbformat": 4,
 "nbformat_minor": 5
}
