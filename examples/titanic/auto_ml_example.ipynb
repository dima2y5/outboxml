{
 "cells": [
  {
   "cell_type": "code",
   "execution_count": null,
   "id": "f57246e5-c196-4817-ab9b-b179d565238d",
   "metadata": {},
   "outputs": [],
   "source": [
    "import sys\n",
    "sys.path.append(\"../../\")\n",
    "sys.path.append(\"../../outboxml\")\n"
   ]
  },
  {
   "cell_type": "code",
   "execution_count": null,
   "id": "249c2559-09ef-45fa-803f-63449e4aee9d",
   "metadata": {},
   "outputs": [],
   "source": [
    "import config\n",
    "from auto_ml_example import add_to_db"
   ]
  },
  {
   "cell_type": "code",
   "execution_count": null,
   "id": "eb250ead-652a-4d70-84a0-229c52872f35",
   "metadata": {},
   "outputs": [],
   "source": [
    "add_to_db('configs/automl-titanic.json')"
   ]
  },
  {
   "cell_type": "code",
   "execution_count": null,
   "id": "f8fd628a-67a2-4265-ad3d-d72c5227cee6",
   "metadata": {},
   "outputs": [],
   "source": [
    "from auto_ml_example import main\n",
    "from titanic_basic import titanic_example"
   ]
  },
  {
   "cell_type": "code",
   "execution_count": null,
   "id": "e799a13e-6427-468c-9cc1-e465ce22a502",
   "metadata": {},
   "outputs": [],
   "source": [
    "main(auto_ml_script=titanic_example(retro=False), config=config, waiting_time=60)"
   ]
  },
  {
   "cell_type": "code",
   "execution_count": null,
   "id": "3b3e4fd0-a3c3-44f8-b9c7-757567007519",
   "metadata": {},
   "outputs": [],
   "source": []
  }
 ],
 "metadata": {
  "kernelspec": {
   "display_name": "Python 3 (ipykernel)",
   "language": "python",
   "name": "python3"
  },
  "language_info": {
   "codemirror_mode": {
    "name": "ipython",
    "version": 3
   },
   "file_extension": ".py",
   "mimetype": "text/x-python",
   "name": "python",
   "nbconvert_exporter": "python",
   "pygments_lexer": "ipython3",
   "version": "3.11.6"
  }
 },
 "nbformat": 4,
 "nbformat_minor": 5
}
