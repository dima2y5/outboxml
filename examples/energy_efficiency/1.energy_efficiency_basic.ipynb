{
 "cells": [
  {
   "cell_type": "code",
   "execution_count": 1,
   "id": "97c15b6a-d533-4f33-95a0-9118c23db6ec",
   "metadata": {},
   "outputs": [],
   "source": [
    "import sys\n",
    "sys.path.append(\"../../\")\n",
    "sys.path.append(\"../../outboxml\")"
   ]
  },
  {
   "cell_type": "code",
   "execution_count": 2,
   "id": "86c32ee5-34be-4a5d-920f-cad26d2532ce",
   "metadata": {},
   "outputs": [],
   "source": [
    "import pandas as pd"
   ]
  },
  {
   "cell_type": "code",
   "execution_count": 3,
   "id": "5eda54cd-818a-47b0-9c6b-9b7563857987",
   "metadata": {},
   "outputs": [
    {
     "data": {
      "text/html": [
       "<div>\n",
       "<style scoped>\n",
       "    .dataframe tbody tr th:only-of-type {\n",
       "        vertical-align: middle;\n",
       "    }\n",
       "\n",
       "    .dataframe tbody tr th {\n",
       "        vertical-align: top;\n",
       "    }\n",
       "\n",
       "    .dataframe thead th {\n",
       "        text-align: right;\n",
       "    }\n",
       "</style>\n",
       "<table border=\"1\" class=\"dataframe\">\n",
       "  <thead>\n",
       "    <tr style=\"text-align: right;\">\n",
       "      <th></th>\n",
       "      <th>Relative Compactness</th>\n",
       "      <th>Surface Area</th>\n",
       "      <th>Wall Area</th>\n",
       "      <th>Roof Area</th>\n",
       "      <th>Overall Height</th>\n",
       "      <th>Orientation</th>\n",
       "      <th>Glazing Area</th>\n",
       "      <th>Glazing Area Distribution</th>\n",
       "      <th>Heating Load</th>\n",
       "      <th>Cooling Load</th>\n",
       "    </tr>\n",
       "  </thead>\n",
       "  <tbody>\n",
       "    <tr>\n",
       "      <th>0</th>\n",
       "      <td>0.98</td>\n",
       "      <td>514.5</td>\n",
       "      <td>294.0</td>\n",
       "      <td>110.25</td>\n",
       "      <td>7.0</td>\n",
       "      <td>2</td>\n",
       "      <td>0.0</td>\n",
       "      <td>0</td>\n",
       "      <td>15.55</td>\n",
       "      <td>21.33</td>\n",
       "    </tr>\n",
       "    <tr>\n",
       "      <th>1</th>\n",
       "      <td>0.98</td>\n",
       "      <td>514.5</td>\n",
       "      <td>294.0</td>\n",
       "      <td>110.25</td>\n",
       "      <td>7.0</td>\n",
       "      <td>3</td>\n",
       "      <td>0.0</td>\n",
       "      <td>0</td>\n",
       "      <td>15.55</td>\n",
       "      <td>21.33</td>\n",
       "    </tr>\n",
       "    <tr>\n",
       "      <th>2</th>\n",
       "      <td>0.98</td>\n",
       "      <td>514.5</td>\n",
       "      <td>294.0</td>\n",
       "      <td>110.25</td>\n",
       "      <td>7.0</td>\n",
       "      <td>4</td>\n",
       "      <td>0.0</td>\n",
       "      <td>0</td>\n",
       "      <td>15.55</td>\n",
       "      <td>21.33</td>\n",
       "    </tr>\n",
       "    <tr>\n",
       "      <th>3</th>\n",
       "      <td>0.98</td>\n",
       "      <td>514.5</td>\n",
       "      <td>294.0</td>\n",
       "      <td>110.25</td>\n",
       "      <td>7.0</td>\n",
       "      <td>5</td>\n",
       "      <td>0.0</td>\n",
       "      <td>0</td>\n",
       "      <td>15.55</td>\n",
       "      <td>21.33</td>\n",
       "    </tr>\n",
       "    <tr>\n",
       "      <th>4</th>\n",
       "      <td>0.90</td>\n",
       "      <td>563.5</td>\n",
       "      <td>318.5</td>\n",
       "      <td>122.50</td>\n",
       "      <td>7.0</td>\n",
       "      <td>2</td>\n",
       "      <td>0.0</td>\n",
       "      <td>0</td>\n",
       "      <td>20.84</td>\n",
       "      <td>28.28</td>\n",
       "    </tr>\n",
       "    <tr>\n",
       "      <th>...</th>\n",
       "      <td>...</td>\n",
       "      <td>...</td>\n",
       "      <td>...</td>\n",
       "      <td>...</td>\n",
       "      <td>...</td>\n",
       "      <td>...</td>\n",
       "      <td>...</td>\n",
       "      <td>...</td>\n",
       "      <td>...</td>\n",
       "      <td>...</td>\n",
       "    </tr>\n",
       "    <tr>\n",
       "      <th>763</th>\n",
       "      <td>0.64</td>\n",
       "      <td>784.0</td>\n",
       "      <td>343.0</td>\n",
       "      <td>220.50</td>\n",
       "      <td>3.5</td>\n",
       "      <td>5</td>\n",
       "      <td>0.4</td>\n",
       "      <td>5</td>\n",
       "      <td>17.88</td>\n",
       "      <td>21.40</td>\n",
       "    </tr>\n",
       "    <tr>\n",
       "      <th>764</th>\n",
       "      <td>0.62</td>\n",
       "      <td>808.5</td>\n",
       "      <td>367.5</td>\n",
       "      <td>220.50</td>\n",
       "      <td>3.5</td>\n",
       "      <td>2</td>\n",
       "      <td>0.4</td>\n",
       "      <td>5</td>\n",
       "      <td>16.54</td>\n",
       "      <td>16.88</td>\n",
       "    </tr>\n",
       "    <tr>\n",
       "      <th>765</th>\n",
       "      <td>0.62</td>\n",
       "      <td>808.5</td>\n",
       "      <td>367.5</td>\n",
       "      <td>220.50</td>\n",
       "      <td>3.5</td>\n",
       "      <td>3</td>\n",
       "      <td>0.4</td>\n",
       "      <td>5</td>\n",
       "      <td>16.44</td>\n",
       "      <td>17.11</td>\n",
       "    </tr>\n",
       "    <tr>\n",
       "      <th>766</th>\n",
       "      <td>0.62</td>\n",
       "      <td>808.5</td>\n",
       "      <td>367.5</td>\n",
       "      <td>220.50</td>\n",
       "      <td>3.5</td>\n",
       "      <td>4</td>\n",
       "      <td>0.4</td>\n",
       "      <td>5</td>\n",
       "      <td>16.48</td>\n",
       "      <td>16.61</td>\n",
       "    </tr>\n",
       "    <tr>\n",
       "      <th>767</th>\n",
       "      <td>0.62</td>\n",
       "      <td>808.5</td>\n",
       "      <td>367.5</td>\n",
       "      <td>220.50</td>\n",
       "      <td>3.5</td>\n",
       "      <td>5</td>\n",
       "      <td>0.4</td>\n",
       "      <td>5</td>\n",
       "      <td>16.64</td>\n",
       "      <td>16.03</td>\n",
       "    </tr>\n",
       "  </tbody>\n",
       "</table>\n",
       "<p>768 rows × 10 columns</p>\n",
       "</div>"
      ],
      "text/plain": [
       "     Relative Compactness  Surface Area  Wall Area  Roof Area  Overall Height  \\\n",
       "0                    0.98         514.5      294.0     110.25             7.0   \n",
       "1                    0.98         514.5      294.0     110.25             7.0   \n",
       "2                    0.98         514.5      294.0     110.25             7.0   \n",
       "3                    0.98         514.5      294.0     110.25             7.0   \n",
       "4                    0.90         563.5      318.5     122.50             7.0   \n",
       "..                    ...           ...        ...        ...             ...   \n",
       "763                  0.64         784.0      343.0     220.50             3.5   \n",
       "764                  0.62         808.5      367.5     220.50             3.5   \n",
       "765                  0.62         808.5      367.5     220.50             3.5   \n",
       "766                  0.62         808.5      367.5     220.50             3.5   \n",
       "767                  0.62         808.5      367.5     220.50             3.5   \n",
       "\n",
       "     Orientation  Glazing Area  Glazing Area Distribution  Heating Load  \\\n",
       "0              2           0.0                          0         15.55   \n",
       "1              3           0.0                          0         15.55   \n",
       "2              4           0.0                          0         15.55   \n",
       "3              5           0.0                          0         15.55   \n",
       "4              2           0.0                          0         20.84   \n",
       "..           ...           ...                        ...           ...   \n",
       "763            5           0.4                          5         17.88   \n",
       "764            2           0.4                          5         16.54   \n",
       "765            3           0.4                          5         16.44   \n",
       "766            4           0.4                          5         16.48   \n",
       "767            5           0.4                          5         16.64   \n",
       "\n",
       "     Cooling Load  \n",
       "0           21.33  \n",
       "1           21.33  \n",
       "2           21.33  \n",
       "3           21.33  \n",
       "4           28.28  \n",
       "..            ...  \n",
       "763         21.40  \n",
       "764         16.88  \n",
       "765         17.11  \n",
       "766         16.61  \n",
       "767         16.03  \n",
       "\n",
       "[768 rows x 10 columns]"
      ]
     },
     "execution_count": 3,
     "metadata": {},
     "output_type": "execute_result"
    }
   ],
   "source": [
    "pd.read_csv(\"data/ENB2012_data.csv\")"
   ]
  },
  {
   "cell_type": "code",
   "execution_count": 4,
   "id": "2f1d7b03-8878-4051-883f-a966bdbecaf9",
   "metadata": {},
   "outputs": [
    {
     "name": "stderr",
     "output_type": "stream",
     "text": [
      "/opt/conda/lib/python3.11/site-packages/tqdm/auto.py:21: TqdmWarning: IProgress not found. Please update jupyter and ipywidgets. See https://ipywidgets.readthedocs.io/en/stable/user_install.html\n",
      "  from .autonotebook import tqdm as notebook_tqdm\n",
      "\u001b[32m2025-08-14 21:16:52.574\u001b[0m | \u001b[1mINFO    \u001b[0m | \u001b[36moutboxml.automl_manager\u001b[0m:\u001b[36m__init_auto_ml\u001b[0m:\u001b[36m462\u001b[0m - \u001b[1mAll models config from path\u001b[0m\n",
      "\u001b[32m2025-08-14 21:16:52.575\u001b[0m | \u001b[34m\u001b[1mDEBUG   \u001b[0m | \u001b[36moutboxml.datasets_manager\u001b[0m:\u001b[36m_init_dsmanager\u001b[0m:\u001b[36m655\u001b[0m - \u001b[34m\u001b[1mInitializing DSManager\u001b[0m\n",
      "\u001b[32m2025-08-14 21:16:52.575\u001b[0m | \u001b[1mINFO    \u001b[0m | \u001b[36moutboxml.datasets_manager\u001b[0m:\u001b[36m__load_all_models_config\u001b[0m:\u001b[36m588\u001b[0m - \u001b[1mAll models config from path\u001b[0m\n",
      "\u001b[32m2025-08-14 21:16:52.576\u001b[0m | \u001b[1mINFO    \u001b[0m | \u001b[36moutboxml.datasets_manager\u001b[0m:\u001b[36m__load_all_models_config\u001b[0m:\u001b[36m606\u001b[0m - \u001b[1mConfig is loaded\u001b[0m\n",
      "\u001b[32m2025-08-14 21:16:52.576\u001b[0m | \u001b[1mINFO    \u001b[0m | \u001b[36moutboxml.datasets_manager\u001b[0m:\u001b[36m__load_prepare_datasets\u001b[0m:\u001b[36m625\u001b[0m - \u001b[1mLoad models prepare datasets\u001b[0m\n",
      "\u001b[32m2025-08-14 21:16:52.577\u001b[0m | \u001b[34m\u001b[1mDEBUG   \u001b[0m | \u001b[36moutboxml.datasets_manager\u001b[0m:\u001b[36m_init_dsmanager\u001b[0m:\u001b[36m661\u001b[0m - \u001b[34m\u001b[1mInitializing completed\u001b[0m\n",
      "\u001b[32m2025-08-14 21:16:52.578\u001b[0m | \u001b[34m\u001b[1mDEBUG   \u001b[0m | \u001b[36moutboxml.automl_manager\u001b[0m:\u001b[36m__init_auto_ml\u001b[0m:\u001b[36m483\u001b[0m - \u001b[34m\u001b[1mAutoML init completed\u001b[0m\n",
      "\u001b[32m2025-08-14 21:16:52.615\u001b[0m | \u001b[34m\u001b[1mDEBUG   \u001b[0m | \u001b[36moutboxml.datasets_manager\u001b[0m:\u001b[36mload_dataset\u001b[0m:\u001b[36m289\u001b[0m - \u001b[34m\u001b[1mDataset loading\u001b[0m\n",
      "\u001b[32m2025-08-14 21:16:52.616\u001b[0m | \u001b[1mINFO    \u001b[0m | \u001b[36moutboxml.extractors\u001b[0m:\u001b[36mload_dataset_from_local\u001b[0m:\u001b[36m66\u001b[0m - \u001b[1mLoad data from local file\u001b[0m\n",
      "\u001b[32m2025-08-14 21:16:52.619\u001b[0m | \u001b[34m\u001b[1mDEBUG   \u001b[0m | \u001b[36moutboxml.extractors\u001b[0m:\u001b[36mload_dataset_from_local\u001b[0m:\u001b[36m91\u001b[0m - \u001b[34m\u001b[1mData loaded successfully from data/ENB2012_data.csv\u001b[0m\n",
      "\u001b[32m2025-08-14 21:16:52.620\u001b[0m | \u001b[34m\u001b[1mDEBUG   \u001b[0m | \u001b[36moutboxml.datasets_manager\u001b[0m:\u001b[36mload_dataset\u001b[0m:\u001b[36m302\u001b[0m - \u001b[34m\u001b[1mDataSet is extracted\u001b[0m\n",
      "\u001b[32m2025-08-14 21:16:52.621\u001b[0m | \u001b[34m\u001b[1mDEBUG   \u001b[0m | \u001b[36moutboxml.automl_manager\u001b[0m:\u001b[36mfeature_selection\u001b[0m:\u001b[36m275\u001b[0m - \u001b[34m\u001b[1mFeature selection||Started\u001b[0m\n",
      "\u001b[32m2025-08-14 21:16:52.621\u001b[0m | \u001b[34m\u001b[1mDEBUG   \u001b[0m | \u001b[36moutboxml.datasets_manager\u001b[0m:\u001b[36m_separateTestTrain\u001b[0m:\u001b[36m480\u001b[0m - \u001b[34m\u001b[1mSeparation started\u001b[0m\n",
      "\u001b[32m2025-08-14 21:16:52.623\u001b[0m | \u001b[1mINFO    \u001b[0m | \u001b[36moutboxml.datasets_manager\u001b[0m:\u001b[36m_separateTestTrain\u001b[0m:\u001b[36m494\u001b[0m - \u001b[1mX shape: (768, 9), Y shape: (768, 1)\u001b[0m\n",
      "\u001b[32m2025-08-14 21:16:52.624\u001b[0m | \u001b[1mINFO    \u001b[0m | \u001b[36moutboxml.datasets_manager\u001b[0m:\u001b[36m_separateTestTrain\u001b[0m:\u001b[36m495\u001b[0m - \u001b[1mY: ['Heating Load']\u001b[0m\n",
      "\u001b[32m2025-08-14 21:16:52.625\u001b[0m | \u001b[1mINFO    \u001b[0m | \u001b[36moutboxml.core.prepared_datasets\u001b[0m:\u001b[36mtrain_test_indexes\u001b[0m:\u001b[36m149\u001b[0m - \u001b[1mRandom separation\u001b[0m\n",
      "\u001b[32m2025-08-14 21:16:52.628\u001b[0m | \u001b[1mINFO    \u001b[0m | \u001b[36moutboxml.core.prepared_datasets\u001b[0m:\u001b[36mtrain_test_indexes\u001b[0m:\u001b[36m166\u001b[0m - \u001b[1mTrain: 576, test: 192\u001b[0m\n",
      "\u001b[32m2025-08-14 21:16:52.629\u001b[0m | \u001b[34m\u001b[1mDEBUG   \u001b[0m | \u001b[36moutboxml.datasets_manager\u001b[0m:\u001b[36m_separateTestTrain\u001b[0m:\u001b[36m526\u001b[0m - \u001b[34m\u001b[1mSeparation finished\u001b[0m\n",
      "\u001b[32m2025-08-14 21:16:52.629\u001b[0m | \u001b[1mINFO    \u001b[0m | \u001b[36moutboxml.dataset_retro\u001b[0m:\u001b[36mfeatures_for_reserch\u001b[0m:\u001b[36m75\u001b[0m - \u001b[1mfeature list to exclude from config ['general']\u001b[0m\n",
      "\u001b[32m2025-08-14 21:16:52.630\u001b[0m | \u001b[1mINFO    \u001b[0m | \u001b[36moutboxml.dataset_retro\u001b[0m:\u001b[36mfeatures_for_reserch\u001b[0m:\u001b[36m84\u001b[0m - \u001b[1mRetro||Features for research ['Surface Area', 'Wall Area', 'Overall Height', 'Orientation', 'Glazing Area', 'Glazing Area Distribution', 'Cooling Load']\u001b[0m\n",
      "\u001b[32m2025-08-14 21:16:52.631\u001b[0m | \u001b[1mINFO    \u001b[0m | \u001b[36moutboxml.data_subsets\u001b[0m:\u001b[36mdataset\u001b[0m:\u001b[36m127\u001b[0m - \u001b[1mSaving data to parquet\u001b[0m\n",
      "\u001b[32m2025-08-14 21:16:52.631\u001b[0m | \u001b[1mINFO    \u001b[0m | \u001b[36moutboxml.data_subsets\u001b[0m:\u001b[36msave_parquet\u001b[0m:\u001b[36m321\u001b[0m - \u001b[1m||Saving dataset to parquet\u001b[0m\n",
      "\u001b[32m2025-08-14 21:16:52.640\u001b[0m | \u001b[1mINFO    \u001b[0m | \u001b[36moutboxml.data_subsets\u001b[0m:\u001b[36mdataset\u001b[0m:\u001b[36m148\u001b[0m - \u001b[1mReading data from parquet\u001b[0m\n",
      "\u001b[32m2025-08-14 21:16:52.653\u001b[0m | \u001b[34m\u001b[1mDEBUG   \u001b[0m | \u001b[36moutboxml.feature_selection\u001b[0m:\u001b[36mselect_features\u001b[0m:\u001b[36m228\u001b[0m - \u001b[34m\u001b[1mFeature selection||Prepare of new_features for research\u001b[0m\n",
      "\u001b[32m2025-08-14 21:16:52.654\u001b[0m | \u001b[1mINFO    \u001b[0m | \u001b[36moutboxml.data_subsets\u001b[0m:\u001b[36mdataset\u001b[0m:\u001b[36m127\u001b[0m - \u001b[1mSaving data to parquet\u001b[0m\n",
      "\u001b[32m2025-08-14 21:16:52.655\u001b[0m | \u001b[1mINFO    \u001b[0m | \u001b[36moutboxml.data_subsets\u001b[0m:\u001b[36msave_parquet\u001b[0m:\u001b[36m321\u001b[0m - \u001b[1m||Saving dataset to parquet\u001b[0m\n",
      "\u001b[32m2025-08-14 21:16:52.658\u001b[0m | \u001b[1mINFO    \u001b[0m | \u001b[36moutboxml.data_subsets\u001b[0m:\u001b[36mdataset\u001b[0m:\u001b[36m148\u001b[0m - \u001b[1mReading data from parquet\u001b[0m\n",
      "100%|██████████| 7/7 [00:00<00:00, 1188.43it/s]\n",
      "\u001b[32m2025-08-14 21:16:52.670\u001b[0m | \u001b[1mINFO    \u001b[0m | \u001b[36moutboxml.feature_selection\u001b[0m:\u001b[36mvalue_type\u001b[0m:\u001b[36m334\u001b[0m - \u001b[1mBINARY:['Overall Height']\u001b[0m\n",
      "\u001b[32m2025-08-14 21:16:52.671\u001b[0m | \u001b[1mINFO    \u001b[0m | \u001b[36moutboxml.feature_selection\u001b[0m:\u001b[36mvalue_type\u001b[0m:\u001b[36m334\u001b[0m - \u001b[1mCATEGORIAL:[]\u001b[0m\n",
      "\u001b[32m2025-08-14 21:16:52.672\u001b[0m | \u001b[1mINFO    \u001b[0m | \u001b[36moutboxml.feature_selection\u001b[0m:\u001b[36mvalue_type\u001b[0m:\u001b[36m334\u001b[0m - \u001b[1mNUMERIC:['Surface Area', 'Wall Area', 'Orientation', 'Glazing Area', 'Glazing Area Distribution', 'Cooling Load']\u001b[0m\n",
      "\u001b[32m2025-08-14 21:16:52.673\u001b[0m | \u001b[1mINFO    \u001b[0m | \u001b[36moutboxml.feature_selection\u001b[0m:\u001b[36mvalue_type\u001b[0m:\u001b[36m334\u001b[0m - \u001b[1mTO_DROP:[]\u001b[0m\n",
      "\u001b[32m2025-08-14 21:16:52.673\u001b[0m | \u001b[1mINFO    \u001b[0m | \u001b[36moutboxml.feature_selection\u001b[0m:\u001b[36mvalue_type\u001b[0m:\u001b[36m334\u001b[0m - \u001b[1mOBJECT:[]\u001b[0m\n",
      "\u001b[32m2025-08-14 21:16:52.674\u001b[0m | \u001b[1mINFO    \u001b[0m | \u001b[36moutboxml.feature_selection\u001b[0m:\u001b[36mvalue_type\u001b[0m:\u001b[36m334\u001b[0m - \u001b[1mDATE:[]\u001b[0m\n",
      "\u001b[32m2025-08-14 21:16:52.675\u001b[0m | \u001b[1mINFO    \u001b[0m | \u001b[36moutboxml.data_subsets\u001b[0m:\u001b[36mdataset\u001b[0m:\u001b[36m127\u001b[0m - \u001b[1mSaving data to parquet\u001b[0m\n",
      "\u001b[32m2025-08-14 21:16:52.676\u001b[0m | \u001b[1mINFO    \u001b[0m | \u001b[36moutboxml.data_subsets\u001b[0m:\u001b[36msave_parquet\u001b[0m:\u001b[36m321\u001b[0m - \u001b[1m||Saving dataset to parquet\u001b[0m\n",
      "\u001b[32m2025-08-14 21:16:52.679\u001b[0m | \u001b[1mINFO    \u001b[0m | \u001b[36moutboxml.data_subsets\u001b[0m:\u001b[36mdataset\u001b[0m:\u001b[36m148\u001b[0m - \u001b[1mReading data from parquet\u001b[0m\n",
      "\u001b[32m2025-08-14 21:16:52.683\u001b[0m | \u001b[1mINFO    \u001b[0m | \u001b[36moutboxml.feature_selection\u001b[0m:\u001b[36m_prepare_feature\u001b[0m:\u001b[36m368\u001b[0m - \u001b[1mPrepare feature||Surface Area\u001b[0m\n",
      "\u001b[32m2025-08-14 21:16:52.686\u001b[0m | \u001b[1mINFO    \u001b[0m | \u001b[36moutboxml.feature_selection\u001b[0m:\u001b[36m_prepare_feature\u001b[0m:\u001b[36m392\u001b[0m - \u001b[1m{'clip': {'min_value': 514.5, 'max_value': 808.5}, 'default': 673.75, 'encoding': 'WoE_num_to_num'}\u001b[0m\n",
      "\u001b[32m2025-08-14 21:16:52.686\u001b[0m | \u001b[1mINFO    \u001b[0m | \u001b[36moutboxml.feature_selection\u001b[0m:\u001b[36m_prepare_feature\u001b[0m:\u001b[36m368\u001b[0m - \u001b[1mPrepare feature||Wall Area\u001b[0m\n",
      "\u001b[32m2025-08-14 21:16:52.689\u001b[0m | \u001b[1mINFO    \u001b[0m | \u001b[36moutboxml.feature_selection\u001b[0m:\u001b[36m_prepare_feature\u001b[0m:\u001b[36m392\u001b[0m - \u001b[1m{'clip': {'min_value': 245.0, 'max_value': 416.5}, 'default': 318.5, 'encoding': 'WoE_num_to_num'}\u001b[0m\n",
      "\u001b[32m2025-08-14 21:16:52.689\u001b[0m | \u001b[1mINFO    \u001b[0m | \u001b[36moutboxml.feature_selection\u001b[0m:\u001b[36m_prepare_feature\u001b[0m:\u001b[36m368\u001b[0m - \u001b[1mPrepare feature||Orientation\u001b[0m\n",
      "\u001b[32m2025-08-14 21:16:52.692\u001b[0m | \u001b[1mINFO    \u001b[0m | \u001b[36moutboxml.feature_selection\u001b[0m:\u001b[36m_prepare_feature\u001b[0m:\u001b[36m392\u001b[0m - \u001b[1m{'clip': {'min_value': 2.0, 'max_value': 5.0}, 'default': 3.5, 'encoding': 'WoE_num_to_num'}\u001b[0m\n",
      "\u001b[32m2025-08-14 21:16:52.693\u001b[0m | \u001b[1mINFO    \u001b[0m | \u001b[36moutboxml.feature_selection\u001b[0m:\u001b[36m_prepare_feature\u001b[0m:\u001b[36m368\u001b[0m - \u001b[1mPrepare feature||Glazing Area\u001b[0m\n",
      "\u001b[32m2025-08-14 21:16:52.695\u001b[0m | \u001b[1mINFO    \u001b[0m | \u001b[36moutboxml.feature_selection\u001b[0m:\u001b[36m_prepare_feature\u001b[0m:\u001b[36m392\u001b[0m - \u001b[1m{'clip': {'min_value': 0.0, 'max_value': 0.4}, 'default': 0.25, 'encoding': 'WoE_num_to_num'}\u001b[0m\n",
      "\u001b[32m2025-08-14 21:16:52.695\u001b[0m | \u001b[1mINFO    \u001b[0m | \u001b[36moutboxml.feature_selection\u001b[0m:\u001b[36m_prepare_feature\u001b[0m:\u001b[36m368\u001b[0m - \u001b[1mPrepare feature||Glazing Area Distribution\u001b[0m\n",
      "\u001b[32m2025-08-14 21:16:52.698\u001b[0m | \u001b[1mINFO    \u001b[0m | \u001b[36moutboxml.feature_selection\u001b[0m:\u001b[36m_prepare_feature\u001b[0m:\u001b[36m392\u001b[0m - \u001b[1m{'clip': {'min_value': 0.0, 'max_value': 5.0}, 'default': 3.0, 'encoding': 'WoE_num_to_num'}\u001b[0m\n",
      "\u001b[32m2025-08-14 21:16:52.698\u001b[0m | \u001b[1mINFO    \u001b[0m | \u001b[36moutboxml.feature_selection\u001b[0m:\u001b[36m_prepare_feature\u001b[0m:\u001b[36m368\u001b[0m - \u001b[1mPrepare feature||Cooling Load\u001b[0m\n",
      "\u001b[32m2025-08-14 21:16:52.701\u001b[0m | \u001b[1mINFO    \u001b[0m | \u001b[36moutboxml.feature_selection\u001b[0m:\u001b[36m_prepare_feature\u001b[0m:\u001b[36m392\u001b[0m - \u001b[1m{'clip': {'min_value': 10.930679999999999, 'max_value': 47.69252000000003}, 'default': 22.08, 'encoding': 'WoE_num_to_num'}\u001b[0m\n",
      "\u001b[32m2025-08-14 21:16:52.701\u001b[0m | \u001b[1mINFO    \u001b[0m | \u001b[36moutboxml.feature_selection\u001b[0m:\u001b[36m_prepare_feature\u001b[0m:\u001b[36m368\u001b[0m - \u001b[1mPrepare feature||Overall Height\u001b[0m\n",
      "\u001b[32m2025-08-14 21:16:52.706\u001b[0m | \u001b[1mINFO    \u001b[0m | \u001b[36moutboxml.feature_selection\u001b[0m:\u001b[36m_prepare_feature\u001b[0m:\u001b[36m392\u001b[0m - \u001b[1m{'default': '_NAN_', 'encoding': 'WoE_cat_to_num'}\u001b[0m\n",
      "\u001b[32m2025-08-14 21:16:52.707\u001b[0m | \u001b[34m\u001b[1mDEBUG   \u001b[0m | \u001b[36moutboxml.data_subsets\u001b[0m:\u001b[36m_prepare_subset\u001b[0m:\u001b[36m179\u001b[0m - \u001b[34m\u001b[1mModel heating || Data preparation started\u001b[0m\n",
      "\u001b[32m2025-08-14 21:16:52.708\u001b[0m | \u001b[1mINFO    \u001b[0m | \u001b[36moutboxml.data_subsets\u001b[0m:\u001b[36mdataset\u001b[0m:\u001b[36m127\u001b[0m - \u001b[1mSaving data to parquet\u001b[0m\n",
      "\u001b[32m2025-08-14 21:16:52.708\u001b[0m | \u001b[1mINFO    \u001b[0m | \u001b[36moutboxml.data_subsets\u001b[0m:\u001b[36msave_parquet\u001b[0m:\u001b[36m321\u001b[0m - \u001b[1m||Saving dataset to parquet\u001b[0m\n",
      "\u001b[32m2025-08-14 21:16:52.711\u001b[0m | \u001b[1mINFO    \u001b[0m | \u001b[36moutboxml.data_subsets\u001b[0m:\u001b[36mdataset\u001b[0m:\u001b[36m148\u001b[0m - \u001b[1mReading data from parquet\u001b[0m\n",
      "\u001b[32m2025-08-14 21:16:52.716\u001b[0m | \u001b[34m\u001b[1mDEBUG   \u001b[0m | \u001b[36moutboxml.core.config_builders\u001b[0m:\u001b[36mbuild\u001b[0m:\u001b[36m63\u001b[0m - \u001b[34m\u001b[1mFeature builder||Surface Area\u001b[0m\n",
      "\u001b[32m2025-08-14 21:16:52.717\u001b[0m | \u001b[34m\u001b[1mDEBUG   \u001b[0m | \u001b[36moutboxml.core.config_builders\u001b[0m:\u001b[36mbuild\u001b[0m:\u001b[36m63\u001b[0m - \u001b[34m\u001b[1mFeature builder||Wall Area\u001b[0m\n",
      "\u001b[32m2025-08-14 21:16:52.718\u001b[0m | \u001b[34m\u001b[1mDEBUG   \u001b[0m | \u001b[36moutboxml.core.config_builders\u001b[0m:\u001b[36mbuild\u001b[0m:\u001b[36m63\u001b[0m - \u001b[34m\u001b[1mFeature builder||Orientation\u001b[0m\n",
      "\u001b[32m2025-08-14 21:16:52.719\u001b[0m | \u001b[34m\u001b[1mDEBUG   \u001b[0m | \u001b[36moutboxml.core.config_builders\u001b[0m:\u001b[36mbuild\u001b[0m:\u001b[36m63\u001b[0m - \u001b[34m\u001b[1mFeature builder||Glazing Area\u001b[0m\n",
      "\u001b[32m2025-08-14 21:16:52.720\u001b[0m | \u001b[34m\u001b[1mDEBUG   \u001b[0m | \u001b[36moutboxml.core.config_builders\u001b[0m:\u001b[36mbuild\u001b[0m:\u001b[36m63\u001b[0m - \u001b[34m\u001b[1mFeature builder||Glazing Area Distribution\u001b[0m\n",
      "\u001b[32m2025-08-14 21:16:52.720\u001b[0m | \u001b[34m\u001b[1mDEBUG   \u001b[0m | \u001b[36moutboxml.core.config_builders\u001b[0m:\u001b[36mbuild\u001b[0m:\u001b[36m63\u001b[0m - \u001b[34m\u001b[1mFeature builder||Cooling Load\u001b[0m\n",
      "\u001b[32m2025-08-14 21:16:52.728\u001b[0m | \u001b[1mINFO    \u001b[0m | \u001b[36moutboxml.core.data_prepare\u001b[0m:\u001b[36mprepare_numerical_feature_series\u001b[0m:\u001b[36m490\u001b[0m - \u001b[1mCooling Load || Исправлено значений вне интервала: 2\u001b[0m\n",
      "\u001b[32m2025-08-14 21:16:52.732\u001b[0m | \u001b[1mINFO    \u001b[0m | \u001b[36moutboxml.core.data_prepare\u001b[0m:\u001b[36mprepare_dataset\u001b[0m:\u001b[36m659\u001b[0m - \u001b[1mFeature preparation||Encoding from config WoE_num_to_num\u001b[0m\n",
      "\u001b[32m2025-08-14 21:16:52.733\u001b[0m | \u001b[1mINFO    \u001b[0m | \u001b[36moutboxml.core.data_prepare\u001b[0m:\u001b[36mfeature_encoding_series\u001b[0m:\u001b[36m193\u001b[0m - \u001b[1mSurface Area || Encoding || WoE numerical to numerical\u001b[0m\n",
      "\u001b[32m2025-08-14 21:16:52.884\u001b[0m | \u001b[1mINFO    \u001b[0m | \u001b[36moutboxml.core.data_prepare\u001b[0m:\u001b[36mprepare_dataset\u001b[0m:\u001b[36m659\u001b[0m - \u001b[1mFeature preparation||Encoding from config WoE_num_to_num\u001b[0m\n",
      "\u001b[32m2025-08-14 21:16:52.885\u001b[0m | \u001b[1mINFO    \u001b[0m | \u001b[36moutboxml.core.data_prepare\u001b[0m:\u001b[36mfeature_encoding_series\u001b[0m:\u001b[36m193\u001b[0m - \u001b[1mWall Area || Encoding || WoE numerical to numerical\u001b[0m\n",
      "\u001b[32m2025-08-14 21:16:52.933\u001b[0m | \u001b[1mINFO    \u001b[0m | \u001b[36moutboxml.core.data_prepare\u001b[0m:\u001b[36mprepare_dataset\u001b[0m:\u001b[36m659\u001b[0m - \u001b[1mFeature preparation||Encoding from config WoE_num_to_num\u001b[0m\n",
      "\u001b[32m2025-08-14 21:16:52.934\u001b[0m | \u001b[1mINFO    \u001b[0m | \u001b[36moutboxml.core.data_prepare\u001b[0m:\u001b[36mfeature_encoding_series\u001b[0m:\u001b[36m193\u001b[0m - \u001b[1mOrientation || Encoding || WoE numerical to numerical\u001b[0m\n",
      "\u001b[32m2025-08-14 21:16:52.972\u001b[0m | \u001b[1mINFO    \u001b[0m | \u001b[36moutboxml.core.data_prepare\u001b[0m:\u001b[36mprepare_dataset\u001b[0m:\u001b[36m659\u001b[0m - \u001b[1mFeature preparation||Encoding from config WoE_num_to_num\u001b[0m\n",
      "\u001b[32m2025-08-14 21:16:52.978\u001b[0m | \u001b[1mINFO    \u001b[0m | \u001b[36moutboxml.core.data_prepare\u001b[0m:\u001b[36mfeature_encoding_series\u001b[0m:\u001b[36m193\u001b[0m - \u001b[1mGlazing Area || Encoding || WoE numerical to numerical\u001b[0m\n",
      "\u001b[32m2025-08-14 21:16:53.018\u001b[0m | \u001b[1mINFO    \u001b[0m | \u001b[36moutboxml.core.data_prepare\u001b[0m:\u001b[36mprepare_dataset\u001b[0m:\u001b[36m659\u001b[0m - \u001b[1mFeature preparation||Encoding from config WoE_num_to_num\u001b[0m\n",
      "\u001b[32m2025-08-14 21:16:53.020\u001b[0m | \u001b[1mINFO    \u001b[0m | \u001b[36moutboxml.core.data_prepare\u001b[0m:\u001b[36mfeature_encoding_series\u001b[0m:\u001b[36m193\u001b[0m - \u001b[1mGlazing Area Distribution || Encoding || WoE numerical to numerical\u001b[0m\n",
      "\u001b[32m2025-08-14 21:16:53.062\u001b[0m | \u001b[1mINFO    \u001b[0m | \u001b[36moutboxml.core.data_prepare\u001b[0m:\u001b[36mprepare_dataset\u001b[0m:\u001b[36m659\u001b[0m - \u001b[1mFeature preparation||Encoding from config WoE_num_to_num\u001b[0m\n",
      "\u001b[32m2025-08-14 21:16:53.063\u001b[0m | \u001b[1mINFO    \u001b[0m | \u001b[36moutboxml.core.data_prepare\u001b[0m:\u001b[36mfeature_encoding_series\u001b[0m:\u001b[36m193\u001b[0m - \u001b[1mCooling Load || Encoding || WoE numerical to numerical\u001b[0m\n",
      "\u001b[32m2025-08-14 21:18:44.541\u001b[0m | \u001b[34m\u001b[1mDEBUG   \u001b[0m | \u001b[36moutboxml.data_subsets\u001b[0m:\u001b[36m_prepare_subset\u001b[0m:\u001b[36m209\u001b[0m - \u001b[34m\u001b[1mModel heating || Data preparation finished\u001b[0m\n",
      "\u001b[32m2025-08-14 21:18:44.542\u001b[0m | \u001b[1mINFO    \u001b[0m | \u001b[36moutboxml.data_subsets\u001b[0m:\u001b[36msave_subset_to_pickle\u001b[0m:\u001b[36m308\u001b[0m - \u001b[1mheating||Saving subset to pickle\u001b[0m\n",
      "\u001b[32m2025-08-14 21:18:44.543\u001b[0m | \u001b[1mINFO    \u001b[0m | \u001b[36moutboxml.data_subsets\u001b[0m:\u001b[36mload_subsets_from_pickle\u001b[0m:\u001b[36m288\u001b[0m - \u001b[1mheating||Loading subset from pickle\u001b[0m\n",
      "\u001b[32m2025-08-14 21:18:44.545\u001b[0m | \u001b[34m\u001b[1mDEBUG   \u001b[0m | \u001b[36moutboxml.feature_selection\u001b[0m:\u001b[36mselect_features\u001b[0m:\u001b[36m231\u001b[0m - \u001b[34m\u001b[1mFeature selection||Preparation finished\u001b[0m\n",
      "\u001b[32m2025-08-14 21:18:44.546\u001b[0m | \u001b[34m\u001b[1mDEBUG   \u001b[0m | \u001b[36moutboxml.feature_selection\u001b[0m:\u001b[36m__fit_catboost\u001b[0m:\u001b[36m84\u001b[0m - \u001b[34m\u001b[1mFeature selection||Fitting catboost\u001b[0m\n",
      "\u001b[32m2025-08-14 21:18:44.551\u001b[0m | \u001b[1mINFO    \u001b[0m | \u001b[36moutboxml.feature_selection\u001b[0m:\u001b[36m__load_model\u001b[0m:\u001b[36m188\u001b[0m - \u001b[1mRegression\u001b[0m\n",
      "\u001b[32m2025-08-14 21:18:44.829\u001b[0m | \u001b[1mINFO    \u001b[0m | \u001b[36moutboxml.feature_selection\u001b[0m:\u001b[36mfeature_selection\u001b[0m:\u001b[36m70\u001b[0m - \u001b[1mChoosing top 10 features||['Orientation', 'Wall Area', 'Roof Area', 'Surface Area', 'Glazing Area Distribution', 'Glazing Area', 'Relative Compactness', 'Cooling Load']\u001b[0m\n",
      "\u001b[32m2025-08-14 21:18:44.830\u001b[0m | \u001b[34m\u001b[1mDEBUG   \u001b[0m | \u001b[36moutboxml.feature_selection\u001b[0m:\u001b[36mcalculate_correlation\u001b[0m:\u001b[36m113\u001b[0m - \u001b[34m\u001b[1mFeature selection||Calculating correlations\u001b[0m\n",
      "\u001b[32m2025-08-14 21:18:46.950\u001b[0m | \u001b[1mINFO    \u001b[0m | \u001b[36moutboxml.feature_selection\u001b[0m:\u001b[36mcalculate_correlation\u001b[0m:\u001b[36m121\u001b[0m - \u001b[1mDropping ['Surface Area', 'Roof Area', 'Wall Area']\u001b[0m\n",
      "\u001b[32m2025-08-14 21:18:46.951\u001b[0m | \u001b[1mINFO    \u001b[0m | \u001b[36moutboxml.feature_selection\u001b[0m:\u001b[36mfeature_selection\u001b[0m:\u001b[36m75\u001b[0m - \u001b[1mFeatures to drop||['Surface Area', 'Roof Area', 'Wall Area']\u001b[0m\n",
      "\u001b[32m2025-08-14 21:18:46.953\u001b[0m | \u001b[34m\u001b[1mDEBUG   \u001b[0m | \u001b[36moutboxml.feature_selection\u001b[0m:\u001b[36m_filter_data\u001b[0m:\u001b[36m396\u001b[0m - \u001b[34m\u001b[1mFeature selection||Preparing results\u001b[0m\n",
      "\u001b[32m2025-08-14 21:18:46.954\u001b[0m | \u001b[1mINFO    \u001b[0m | \u001b[36moutboxml.feature_selection\u001b[0m:\u001b[36m_filter_data\u001b[0m:\u001b[36m401\u001b[0m - \u001b[1mSelected features: ['Orientation', 'Glazing Area Distribution', 'Glazing Area', 'Cooling Load']\u001b[0m\n",
      "\u001b[32m2025-08-14 21:18:46.955\u001b[0m | \u001b[1mINFO    \u001b[0m | \u001b[36moutboxml.feature_selection\u001b[0m:\u001b[36m_filter_data\u001b[0m:\u001b[36m408\u001b[0m - \u001b[1mColumns to drop||['Wall Area', 'Surface Area']\u001b[0m\n",
      "\u001b[32m2025-08-14 21:18:46.959\u001b[0m | \u001b[1mINFO    \u001b[0m | \u001b[36moutboxml.feature_selection\u001b[0m:\u001b[36m_filter_data\u001b[0m:\u001b[36m418\u001b[0m - \u001b[1mFeatures for model||['Relative Compactness', 'Roof Area', 'Cooling Load', 'Orientation', 'Glazing Area Distribution', 'Glazing Area']\u001b[0m\n",
      "\u001b[32m2025-08-14 21:18:46.961\u001b[0m | \u001b[1mINFO    \u001b[0m | \u001b[36moutboxml.data_subsets\u001b[0m:\u001b[36msave_subset_to_pickle\u001b[0m:\u001b[36m308\u001b[0m - \u001b[1mheating||Saving subset to pickle\u001b[0m\n",
      "\u001b[32m2025-08-14 21:18:46.963\u001b[0m | \u001b[34m\u001b[1mDEBUG   \u001b[0m | \u001b[36moutboxml.automl_manager\u001b[0m:\u001b[36mfeature_selection\u001b[0m:\u001b[36m309\u001b[0m - \u001b[34m\u001b[1mFeature selection||Finished\u001b[0m\n",
      "\u001b[32m2025-08-14 21:18:46.964\u001b[0m | \u001b[34m\u001b[1mDEBUG   \u001b[0m | \u001b[36moutboxml.hyperparameter_tuning\u001b[0m:\u001b[36mbest_params\u001b[0m:\u001b[36m131\u001b[0m - \u001b[34m\u001b[1mHP Tuning||Preparing data\u001b[0m\n",
      "\u001b[32m2025-08-14 21:18:46.966\u001b[0m | \u001b[1mINFO    \u001b[0m | \u001b[36moutboxml.data_subsets\u001b[0m:\u001b[36m_check_prepared_subset\u001b[0m:\u001b[36m243\u001b[0m - \u001b[1mFile /home/jovyan/work/results/heating_v1_subset.pickle already exists.\u001b[0m\n",
      "\u001b[32m2025-08-14 21:18:46.967\u001b[0m | \u001b[1mINFO    \u001b[0m | \u001b[36moutboxml.data_subsets\u001b[0m:\u001b[36mload_subsets_from_pickle\u001b[0m:\u001b[36m288\u001b[0m - \u001b[1mheating||Loading subset from pickle\u001b[0m\n",
      "\u001b[32m2025-08-14 21:18:46.970\u001b[0m | \u001b[1mINFO    \u001b[0m | \u001b[36moutboxml.hyperparameter_tuning\u001b[0m:\u001b[36m_load_model_from_config\u001b[0m:\u001b[36m242\u001b[0m - \u001b[1mLoading model and objective from config\u001b[0m\n",
      "\u001b[32m2025-08-14 21:18:46.971\u001b[0m | \u001b[34m\u001b[1mDEBUG   \u001b[0m | \u001b[36moutboxml.hyperparameter_tuning\u001b[0m:\u001b[36mbest_params\u001b[0m:\u001b[36m138\u001b[0m - \u001b[34m\u001b[1mOptimizing...\u001b[0m\n",
      "[I 2025-08-14 21:18:46,972] A new study created in memory with name: no-name-27f406ff-f56e-4b0d-ba05-dd4b65f596de\n",
      "  0%|          | 0/100 [00:00<?, ?it/s]\u001b[32m2025-08-14 21:18:46.995\u001b[0m | \u001b[1mINFO    \u001b[0m | \u001b[36moutboxml.hyperparameter_tuning\u001b[0m:\u001b[36m_prepare_catboost\u001b[0m:\u001b[36m176\u001b[0m - \u001b[1mNo objective in config||Using from init\u001b[0m\n",
      "\u001b[32m2025-08-14 21:18:46.997\u001b[0m | \u001b[1mINFO    \u001b[0m | \u001b[36moutboxml.hyperparameter_tuning\u001b[0m:\u001b[36m_prepare_catboost\u001b[0m:\u001b[36m176\u001b[0m - \u001b[1mNo objective in config||Using from init\u001b[0m\n",
      "\u001b[32m2025-08-14 21:18:47.010\u001b[0m | \u001b[1mINFO    \u001b[0m | \u001b[36moutboxml.hyperparameter_tuning\u001b[0m:\u001b[36m_prepare_catboost\u001b[0m:\u001b[36m176\u001b[0m - \u001b[1mNo objective in config||Using from init\u001b[0m\n",
      "\u001b[32m2025-08-14 21:18:47.018\u001b[0m | \u001b[1mINFO    \u001b[0m | \u001b[36moutboxml.hyperparameter_tuning\u001b[0m:\u001b[36m_prepare_catboost\u001b[0m:\u001b[36m176\u001b[0m - \u001b[1mNo objective in config||Using from init\u001b[0m\n",
      "\u001b[32m2025-08-14 21:18:47.022\u001b[0m | \u001b[1mINFO    \u001b[0m | \u001b[36moutboxml.hyperparameter_tuning\u001b[0m:\u001b[36m_prepare_catboost\u001b[0m:\u001b[36m176\u001b[0m - \u001b[1mNo objective in config||Using from init\u001b[0m\n",
      "\u001b[32m2025-08-14 21:18:47.023\u001b[0m | \u001b[1mINFO    \u001b[0m | \u001b[36moutboxml.hyperparameter_tuning\u001b[0m:\u001b[36m_prepare_catboost\u001b[0m:\u001b[36m176\u001b[0m - \u001b[1mNo objective in config||Using from init\u001b[0m\n",
      "\u001b[32m2025-08-14 21:18:47.027\u001b[0m | \u001b[1mINFO    \u001b[0m | \u001b[36moutboxml.hyperparameter_tuning\u001b[0m:\u001b[36m_prepare_catboost\u001b[0m:\u001b[36m176\u001b[0m - \u001b[1mNo objective in config||Using from init\u001b[0m\n",
      "\u001b[32m2025-08-14 21:18:47.032\u001b[0m | \u001b[1mINFO    \u001b[0m | \u001b[36moutboxml.hyperparameter_tuning\u001b[0m:\u001b[36m_prepare_catboost\u001b[0m:\u001b[36m176\u001b[0m - \u001b[1mNo objective in config||Using from init\u001b[0m\n",
      "\u001b[32m2025-08-14 21:18:47.037\u001b[0m | \u001b[1mINFO    \u001b[0m | \u001b[36moutboxml.hyperparameter_tuning\u001b[0m:\u001b[36m_prepare_catboost\u001b[0m:\u001b[36m176\u001b[0m - \u001b[1mNo objective in config||Using from init\u001b[0m\n",
      "\u001b[32m2025-08-14 21:18:47.039\u001b[0m | \u001b[1mINFO    \u001b[0m | \u001b[36moutboxml.hyperparameter_tuning\u001b[0m:\u001b[36m_prepare_catboost\u001b[0m:\u001b[36m176\u001b[0m - \u001b[1mNo objective in config||Using from init\u001b[0m\n",
      "\u001b[32m2025-08-14 21:18:47.043\u001b[0m | \u001b[1mINFO    \u001b[0m | \u001b[36moutboxml.hyperparameter_tuning\u001b[0m:\u001b[36m_prepare_catboost\u001b[0m:\u001b[36m176\u001b[0m - \u001b[1mNo objective in config||Using from init\u001b[0m\n",
      "\u001b[32m2025-08-14 21:18:47.043\u001b[0m | \u001b[1mINFO    \u001b[0m | \u001b[36moutboxml.hyperparameter_tuning\u001b[0m:\u001b[36m_prepare_catboost\u001b[0m:\u001b[36m176\u001b[0m - \u001b[1mNo objective in config||Using from init\u001b[0m\n",
      "Best trial: 1. Best value: -1.95094:   1%|          | 1/100 [00:00<00:50,  1.96it/s]\u001b[32m2025-08-14 21:18:47.490\u001b[0m | \u001b[1mINFO    \u001b[0m | \u001b[36moutboxml.hyperparameter_tuning\u001b[0m:\u001b[36m_prepare_catboost\u001b[0m:\u001b[36m176\u001b[0m - \u001b[1mNo objective in config||Using from init\u001b[0m\n"
     ]
    },
    {
     "name": "stdout",
     "output_type": "stream",
     "text": [
      "[I 2025-08-14 21:18:47,473] Trial 1 finished with value: -1.9509375714194466 and parameters: {'iterations': 200, 'depth': 3, 'learning_rate': 0.01997697646306666, 'l2_leaf_reg': 0.26328578705022976, 'subsample': 0.07921537104241866, 'colsample_bylevel': 0.9310065727441678, 'min_data_in_leaf': 51}. Best is trial 1 with value: -1.9509375714194466.\n"
     ]
    },
    {
     "name": "stderr",
     "output_type": "stream",
     "text": [
      "Best trial: 2. Best value: -1.42246:   2%|▏         | 2/100 [00:00<00:35,  2.77it/s]\u001b[32m2025-08-14 21:18:47.752\u001b[0m | \u001b[1mINFO    \u001b[0m | \u001b[36moutboxml.hyperparameter_tuning\u001b[0m:\u001b[36m_prepare_catboost\u001b[0m:\u001b[36m176\u001b[0m - \u001b[1mNo objective in config||Using from init\u001b[0m\n",
      "\u001b[32m2025-08-14 21:18:47.755\u001b[0m | \u001b[1mINFO    \u001b[0m | \u001b[36moutboxml.hyperparameter_tuning\u001b[0m:\u001b[36m_prepare_catboost\u001b[0m:\u001b[36m176\u001b[0m - \u001b[1mNo objective in config||Using from init\u001b[0m\n"
     ]
    },
    {
     "name": "stdout",
     "output_type": "stream",
     "text": [
      "[I 2025-08-14 21:18:47,709] Trial 2 finished with value: -1.42245751942422 and parameters: {'iterations': 300, 'depth': 3, 'learning_rate': 0.04452509505297396, 'l2_leaf_reg': 0.006216362064001714, 'subsample': 0.6984756694373289, 'colsample_bylevel': 0.9697330676552157, 'min_data_in_leaf': 61}. Best is trial 2 with value: -1.42245751942422.\n",
      "[I 2025-08-14 21:18:47,725] Trial 6 finished with value: -1.9662913298237221 and parameters: {'iterations': 400, 'depth': 3, 'learning_rate': 0.011998404143834445, 'l2_leaf_reg': 0.11050112551974464, 'subsample': 0.14008726486514295, 'colsample_bylevel': 0.37168956901884737, 'min_data_in_leaf': 61}. Best is trial 2 with value: -1.42245751942422.\n"
     ]
    },
    {
     "name": "stderr",
     "output_type": "stream",
     "text": [
      "Best trial: 2. Best value: -1.42246:   4%|▍         | 4/100 [00:00<00:19,  5.04it/s]\u001b[32m2025-08-14 21:18:47.951\u001b[0m | \u001b[1mINFO    \u001b[0m | \u001b[36moutboxml.hyperparameter_tuning\u001b[0m:\u001b[36m_prepare_catboost\u001b[0m:\u001b[36m176\u001b[0m - \u001b[1mNo objective in config||Using from init\u001b[0m\n",
      "Best trial: 2. Best value: -1.42246:   4%|▍         | 4/100 [00:01<00:19,  5.04it/s]"
     ]
    },
    {
     "name": "stdout",
     "output_type": "stream",
     "text": [
      "[I 2025-08-14 21:18:47,932] Trial 10 finished with value: -1.521161750175002 and parameters: {'iterations': 800, 'depth': 1, 'learning_rate': 0.06918576829390204, 'l2_leaf_reg': 0.0006856829505956755, 'subsample': 0.35922594178405975, 'colsample_bylevel': 0.6575014512638012, 'min_data_in_leaf': 81}. Best is trial 2 with value: -1.42245751942422.\n",
      "[I 2025-08-14 21:18:48,111] Trial 9 finished with value: -1.5003609777850908 and parameters: {'iterations': 800, 'depth': 1, 'learning_rate': 0.0391424801838756, 'l2_leaf_reg': 0.0012193268475045962, 'subsample': 0.5216920116122402, 'colsample_bylevel': 0.839087736649099, 'min_data_in_leaf': 81}. Best is trial 2 with value: -1.42245751942422.\n"
     ]
    },
    {
     "name": "stderr",
     "output_type": "stream",
     "text": [
      "                                                                                    \u001b[32m2025-08-14 21:18:48.147\u001b[0m | \u001b[1mINFO    \u001b[0m | \u001b[36moutboxml.hyperparameter_tuning\u001b[0m:\u001b[36m_prepare_catboost\u001b[0m:\u001b[36m176\u001b[0m - \u001b[1mNo objective in config||Using from init\u001b[0m\n",
      "Best trial: 2. Best value: -1.42246:   5%|▌         | 5/100 [00:01<00:18,  5.07it/s]\u001b[32m2025-08-14 21:18:48.168\u001b[0m | \u001b[1mINFO    \u001b[0m | \u001b[36moutboxml.hyperparameter_tuning\u001b[0m:\u001b[36m_prepare_catboost\u001b[0m:\u001b[36m176\u001b[0m - \u001b[1mNo objective in config||Using from init\u001b[0m\n"
     ]
    },
    {
     "name": "stdout",
     "output_type": "stream",
     "text": [
      "[I 2025-08-14 21:18:48,115] Trial 5 finished with value: -1.518750343679577 and parameters: {'iterations': 700, 'depth': 5, 'learning_rate': 0.08741556291491025, 'l2_leaf_reg': 0.005060876046095092, 'subsample': 0.959526279655616, 'colsample_bylevel': 0.14881796653586632, 'min_data_in_leaf': 91}. Best is trial 2 with value: -1.42245751942422.\n"
     ]
    },
    {
     "name": "stderr",
     "output_type": "stream",
     "text": [
      "Best trial: 2. Best value: -1.42246:   7%|▋         | 7/100 [00:01<00:15,  6.15it/s]\u001b[32m2025-08-14 21:18:48.392\u001b[0m | \u001b[1mINFO    \u001b[0m | \u001b[36moutboxml.hyperparameter_tuning\u001b[0m:\u001b[36m_prepare_catboost\u001b[0m:\u001b[36m176\u001b[0m - \u001b[1mNo objective in config||Using from init\u001b[0m\n",
      "Best trial: 2. Best value: -1.42246:   8%|▊         | 8/100 [00:01<00:13,  6.67it/s]\u001b[32m2025-08-14 21:18:48.502\u001b[0m | \u001b[1mINFO    \u001b[0m | \u001b[36moutboxml.hyperparameter_tuning\u001b[0m:\u001b[36m_prepare_catboost\u001b[0m:\u001b[36m176\u001b[0m - \u001b[1mNo objective in config||Using from init\u001b[0m\n"
     ]
    },
    {
     "name": "stdout",
     "output_type": "stream",
     "text": [
      "[I 2025-08-14 21:18:48,363] Trial 13 finished with value: -1.5419552691393719 and parameters: {'iterations': 400, 'depth': 3, 'learning_rate': 0.046070152645819144, 'l2_leaf_reg': 8.292381208701205e-05, 'subsample': 0.47448675867788526, 'colsample_bylevel': 0.1696284194928906, 'min_data_in_leaf': 31}. Best is trial 2 with value: -1.42245751942422.\n",
      "[I 2025-08-14 21:18:48,486] Trial 15 finished with value: -1.7771451523021622 and parameters: {'iterations': 100, 'depth': 7, 'learning_rate': 0.055580413026161096, 'l2_leaf_reg': 0.729440273635628, 'subsample': 0.5171660988624414, 'colsample_bylevel': 0.43081967032785723, 'min_data_in_leaf': 101}. Best is trial 2 with value: -1.42245751942422.\n"
     ]
    },
    {
     "name": "stderr",
     "output_type": "stream",
     "text": [
      "Best trial: 2. Best value: -1.42246:   9%|▉         | 9/100 [00:01<00:16,  5.67it/s]\u001b[32m2025-08-14 21:18:48.751\u001b[0m | \u001b[1mINFO    \u001b[0m | \u001b[36moutboxml.hyperparameter_tuning\u001b[0m:\u001b[36m_prepare_catboost\u001b[0m:\u001b[36m176\u001b[0m - \u001b[1mNo objective in config||Using from init\u001b[0m\n",
      "Best trial: 2. Best value: -1.42246:   9%|▉         | 9/100 [00:01<00:16,  5.67it/s]\u001b[32m2025-08-14 21:18:48.845\u001b[0m | \u001b[1mINFO    \u001b[0m | \u001b[36moutboxml.hyperparameter_tuning\u001b[0m:\u001b[36m_prepare_catboost\u001b[0m:\u001b[36m176\u001b[0m - \u001b[1mNo objective in config||Using from init\u001b[0m\n",
      "Best trial: 2. Best value: -1.42246:  11%|█         | 11/100 [00:01<00:12,  7.24it/s]"
     ]
    },
    {
     "name": "stdout",
     "output_type": "stream",
     "text": [
      "[I 2025-08-14 21:18:48,736] Trial 19 finished with value: -1.567631625247251 and parameters: {'iterations': 100, 'depth': 3, 'learning_rate': 0.09697687762395397, 'l2_leaf_reg': 0.8691191682146958, 'subsample': 0.33558282693637836, 'colsample_bylevel': 0.5273936244527793, 'min_data_in_leaf': 11}. Best is trial 2 with value: -1.42245751942422.\n",
      "[I 2025-08-14 21:18:48,755] Trial 16 finished with value: -1.9959401352108603 and parameters: {'iterations': 300, 'depth': 3, 'learning_rate': 0.023391950842204957, 'l2_leaf_reg': 1.589819794953118, 'subsample': 0.5962074908385544, 'colsample_bylevel': 0.22198666111848514, 'min_data_in_leaf': 101}. Best is trial 2 with value: -1.42245751942422.\n",
      "[I 2025-08-14 21:18:48,917] Trial 7 finished with value: -1.5353379365517146 and parameters: {'iterations': 800, 'depth': 11, 'learning_rate': 0.0411977713572344, 'l2_leaf_reg': 0.006477700266126779, 'subsample': 0.7694412525680461, 'colsample_bylevel': 0.22028314522568604, 'min_data_in_leaf': 101}. Best is trial 2 with value: -1.42245751942422.\n"
     ]
    },
    {
     "name": "stderr",
     "output_type": "stream",
     "text": [
      "\u001b[32m2025-08-14 21:18:48.989\u001b[0m | \u001b[1mINFO    \u001b[0m | \u001b[36moutboxml.hyperparameter_tuning\u001b[0m:\u001b[36m_prepare_catboost\u001b[0m:\u001b[36m176\u001b[0m - \u001b[1mNo objective in config||Using from init\u001b[0m\n",
      "Best trial: 2. Best value: -1.42246:  12%|█▏        | 12/100 [00:02<00:28,  3.04it/s]\u001b[32m2025-08-14 21:18:49.930\u001b[0m | \u001b[1mINFO    \u001b[0m | \u001b[36moutboxml.hyperparameter_tuning\u001b[0m:\u001b[36m_prepare_catboost\u001b[0m:\u001b[36m176\u001b[0m - \u001b[1mNo objective in config||Using from init\u001b[0m\n"
     ]
    },
    {
     "name": "stdout",
     "output_type": "stream",
     "text": [
      "[I 2025-08-14 21:18:49,853] Trial 0 finished with value: -1.6998279491520114 and parameters: {'iterations': 900, 'depth': 7, 'learning_rate': 0.09794683736547768, 'l2_leaf_reg': 0.02345439861131743, 'subsample': 0.464636669110139, 'colsample_bylevel': 0.46063942951831166, 'min_data_in_leaf': 81}. Best is trial 2 with value: -1.42245751942422.\n"
     ]
    },
    {
     "name": "stderr",
     "output_type": "stream",
     "text": [
      "Best trial: 2. Best value: -1.42246:  13%|█▎        | 13/100 [00:03<00:36,  2.40it/s]\u001b[32m2025-08-14 21:18:50.700\u001b[0m | \u001b[1mINFO    \u001b[0m | \u001b[36moutboxml.hyperparameter_tuning\u001b[0m:\u001b[36m_prepare_catboost\u001b[0m:\u001b[36m176\u001b[0m - \u001b[1mNo objective in config||Using from init\u001b[0m\n"
     ]
    },
    {
     "name": "stdout",
     "output_type": "stream",
     "text": [
      "[I 2025-08-14 21:18:50,507] Trial 17 finished with value: -1.6901004123856997 and parameters: {'iterations': 600, 'depth': 7, 'learning_rate': 0.02504230971454293, 'l2_leaf_reg': 0.005146050250898468, 'subsample': 0.8691500943723983, 'colsample_bylevel': 0.7347836729572453, 'min_data_in_leaf': 21}. Best is trial 2 with value: -1.42245751942422.\n"
     ]
    },
    {
     "name": "stderr",
     "output_type": "stream",
     "text": [
      "Best trial: 2. Best value: -1.42246:  14%|█▍        | 14/100 [00:04<00:36,  2.39it/s]\u001b[32m2025-08-14 21:18:51.043\u001b[0m | \u001b[1mINFO    \u001b[0m | \u001b[36moutboxml.hyperparameter_tuning\u001b[0m:\u001b[36m_prepare_catboost\u001b[0m:\u001b[36m176\u001b[0m - \u001b[1mNo objective in config||Using from init\u001b[0m\n"
     ]
    },
    {
     "name": "stdout",
     "output_type": "stream",
     "text": [
      "[I 2025-08-14 21:18:50,945] Trial 18 finished with value: -1.514895815068335 and parameters: {'iterations': 1200, 'depth': 9, 'learning_rate': 0.033302062056824205, 'l2_leaf_reg': 3.5405165963439854e-05, 'subsample': 0.7320544544471101, 'colsample_bylevel': 0.24197110345678113, 'min_data_in_leaf': 91}. Best is trial 2 with value: -1.42245751942422.\n"
     ]
    },
    {
     "name": "stderr",
     "output_type": "stream",
     "text": [
      "Best trial: 2. Best value: -1.42246:  15%|█▌        | 15/100 [00:05<00:51,  1.65it/s]\u001b[32m2025-08-14 21:18:52.206\u001b[0m | \u001b[1mINFO    \u001b[0m | \u001b[36moutboxml.hyperparameter_tuning\u001b[0m:\u001b[36m_prepare_catboost\u001b[0m:\u001b[36m176\u001b[0m - \u001b[1mNo objective in config||Using from init\u001b[0m\n"
     ]
    },
    {
     "name": "stdout",
     "output_type": "stream",
     "text": [
      "[I 2025-08-14 21:18:52,062] Trial 20 finished with value: -1.6688971736676883 and parameters: {'iterations': 1200, 'depth': 13, 'learning_rate': 0.0712866494921267, 'l2_leaf_reg': 88.37826950442016, 'subsample': 0.3174749947706456, 'colsample_bylevel': 0.2556960688044723, 'min_data_in_leaf': 11}. Best is trial 2 with value: -1.42245751942422.\n"
     ]
    },
    {
     "name": "stderr",
     "output_type": "stream",
     "text": [
      "Best trial: 2. Best value: -1.42246:  16%|█▌        | 16/100 [00:06<01:02,  1.34it/s]\u001b[32m2025-08-14 21:18:53.270\u001b[0m | \u001b[1mINFO    \u001b[0m | \u001b[36moutboxml.hyperparameter_tuning\u001b[0m:\u001b[36m_prepare_catboost\u001b[0m:\u001b[36m176\u001b[0m - \u001b[1mNo objective in config||Using from init\u001b[0m\n"
     ]
    },
    {
     "name": "stdout",
     "output_type": "stream",
     "text": [
      "[I 2025-08-14 21:18:53,161] Trial 11 finished with value: -1.9274290988229994 and parameters: {'iterations': 800, 'depth': 9, 'learning_rate': 0.07603339706675796, 'l2_leaf_reg': 3.342263692850952e-05, 'subsample': 0.6312373106040436, 'colsample_bylevel': 0.6954901408006159, 'min_data_in_leaf': 1}. Best is trial 2 with value: -1.42245751942422.\n"
     ]
    },
    {
     "name": "stderr",
     "output_type": "stream",
     "text": [
      "Best trial: 2. Best value: -1.42246:  17%|█▋        | 17/100 [00:06<00:53,  1.56it/s]\u001b[32m2025-08-14 21:18:53.694\u001b[0m | \u001b[1mINFO    \u001b[0m | \u001b[36moutboxml.hyperparameter_tuning\u001b[0m:\u001b[36m_prepare_catboost\u001b[0m:\u001b[36m176\u001b[0m - \u001b[1mNo objective in config||Using from init\u001b[0m\n"
     ]
    },
    {
     "name": "stdout",
     "output_type": "stream",
     "text": [
      "[I 2025-08-14 21:18:53,557] Trial 26 finished with value: -1.5369540583330108 and parameters: {'iterations': 1000, 'depth': 1, 'learning_rate': 0.033573039983522145, 'l2_leaf_reg': 0.0003163813548089284, 'subsample': 0.6756922810257758, 'colsample_bylevel': 0.9907918068845689, 'min_data_in_leaf': 61}. Best is trial 2 with value: -1.42245751942422.\n"
     ]
    },
    {
     "name": "stderr",
     "output_type": "stream",
     "text": [
      "Best trial: 2. Best value: -1.42246:  19%|█▉        | 19/100 [00:07<00:43,  1.86it/s]\u001b[32m2025-08-14 21:18:54.572\u001b[0m | \u001b[1mINFO    \u001b[0m | \u001b[36moutboxml.hyperparameter_tuning\u001b[0m:\u001b[36m_prepare_catboost\u001b[0m:\u001b[36m176\u001b[0m - \u001b[1mNo objective in config||Using from init\u001b[0m\n"
     ]
    },
    {
     "name": "stdout",
     "output_type": "stream",
     "text": [
      "[I 2025-08-14 21:18:54,382] Trial 28 finished with value: -2.0773023251688283 and parameters: {'iterations': 500, 'depth': 1, 'learning_rate': 0.015158252341890855, 'l2_leaf_reg': 0.0009207379489826081, 'subsample': 0.8504499096730773, 'colsample_bylevel': 0.8152377412509858, 'min_data_in_leaf': 41}. Best is trial 2 with value: -1.42245751942422.\n",
      "[I 2025-08-14 21:18:54,507] Trial 27 finished with value: -1.5246048090238487 and parameters: {'iterations': 1000, 'depth': 1, 'learning_rate': 0.035705546163761516, 'l2_leaf_reg': 0.0006318320948296818, 'subsample': 0.7265035134741438, 'colsample_bylevel': 0.9834504735536472, 'min_data_in_leaf': 61}. Best is trial 2 with value: -1.42245751942422.\n"
     ]
    },
    {
     "name": "stderr",
     "output_type": "stream",
     "text": [
      "\u001b[32m2025-08-14 21:18:54.715\u001b[0m | \u001b[1mINFO    \u001b[0m | \u001b[36moutboxml.hyperparameter_tuning\u001b[0m:\u001b[36m_prepare_catboost\u001b[0m:\u001b[36m176\u001b[0m - \u001b[1mNo objective in config||Using from init\u001b[0m\n",
      "Best trial: 2. Best value: -1.42246:  20%|██        | 20/100 [00:09<01:10,  1.13it/s]"
     ]
    },
    {
     "name": "stdout",
     "output_type": "stream",
     "text": [
      "[I 2025-08-14 21:18:56,249] Trial 30 finished with value: -1.515459790307595 and parameters: {'iterations': 600, 'depth': 5, 'learning_rate': 0.05534243656133738, 'l2_leaf_reg': 14.412235942991, 'subsample': 0.23691879147759531, 'colsample_bylevel': 0.8680344826997228, 'min_data_in_leaf': 71}. Best is trial 2 with value: -1.42245751942422.\n"
     ]
    },
    {
     "name": "stderr",
     "output_type": "stream",
     "text": [
      "\u001b[32m2025-08-14 21:18:56.459\u001b[0m | \u001b[1mINFO    \u001b[0m | \u001b[36moutboxml.hyperparameter_tuning\u001b[0m:\u001b[36m_prepare_catboost\u001b[0m:\u001b[36m176\u001b[0m - \u001b[1mNo objective in config||Using from init\u001b[0m\n",
      "Best trial: 2. Best value: -1.42246:  21%|██        | 21/100 [00:10<01:23,  1.06s/it]\u001b[32m2025-08-14 21:18:57.846\u001b[0m | \u001b[1mINFO    \u001b[0m | \u001b[36moutboxml.hyperparameter_tuning\u001b[0m:\u001b[36m_prepare_catboost\u001b[0m:\u001b[36m176\u001b[0m - \u001b[1mNo objective in config||Using from init\u001b[0m\n"
     ]
    },
    {
     "name": "stdout",
     "output_type": "stream",
     "text": [
      "[I 2025-08-14 21:18:57,705] Trial 31 finished with value: -1.4965683826575589 and parameters: {'iterations': 500, 'depth': 5, 'learning_rate': 0.027226452661616645, 'l2_leaf_reg': 1.137773997989098e-05, 'subsample': 0.5823503652574722, 'colsample_bylevel': 0.5816165411244645, 'min_data_in_leaf': 41}. Best is trial 2 with value: -1.42245751942422.\n"
     ]
    },
    {
     "name": "stderr",
     "output_type": "stream",
     "text": [
      "Best trial: 2. Best value: -1.42246:  22%|██▏       | 22/100 [00:12<01:30,  1.16s/it]\u001b[32m2025-08-14 21:18:59.275\u001b[0m | \u001b[1mINFO    \u001b[0m | \u001b[36moutboxml.hyperparameter_tuning\u001b[0m:\u001b[36m_prepare_catboost\u001b[0m:\u001b[36m176\u001b[0m - \u001b[1mNo objective in config||Using from init\u001b[0m\n"
     ]
    },
    {
     "name": "stdout",
     "output_type": "stream",
     "text": [
      "[I 2025-08-14 21:18:59,100] Trial 32 finished with value: -1.4526492795142258 and parameters: {'iterations': 400, 'depth': 5, 'learning_rate': 0.02717445363256356, 'l2_leaf_reg': 1.3325764946335065e-05, 'subsample': 0.5677891802564204, 'colsample_bylevel': 0.5880570652182632, 'min_data_in_leaf': 41}. Best is trial 2 with value: -1.42245751942422.\n"
     ]
    },
    {
     "name": "stderr",
     "output_type": "stream",
     "text": [
      "Best trial: 2. Best value: -1.42246:  24%|██▍       | 24/100 [00:13<01:03,  1.19it/s]\u001b[32m2025-08-14 21:19:00.400\u001b[0m | \u001b[1mINFO    \u001b[0m | \u001b[36moutboxml.hyperparameter_tuning\u001b[0m:\u001b[36m_prepare_catboost\u001b[0m:\u001b[36m176\u001b[0m - \u001b[1mNo objective in config||Using from init\u001b[0m\n",
      "                                                                                     \r"
     ]
    },
    {
     "name": "stdout",
     "output_type": "stream",
     "text": [
      "[I 2025-08-14 21:19:00,211] Trial 33 finished with value: -1.6053468328879308 and parameters: {'iterations': 300, 'depth': 5, 'learning_rate': 0.027269223603898315, 'l2_leaf_reg': 1.0268837864935517e-05, 'subsample': 0.6123751608571761, 'colsample_bylevel': 0.5842046822792242, 'min_data_in_leaf': 41}. Best is trial 2 with value: -1.42245751942422.\n",
      "[I 2025-08-14 21:19:00,295] Trial 3 finished with value: -1.7126745281519105 and parameters: {'iterations': 800, 'depth': 13, 'learning_rate': 0.036124650706541965, 'l2_leaf_reg': 0.3943789083517797, 'subsample': 0.11367043151648569, 'colsample_bylevel': 0.41318010740612454, 'min_data_in_leaf': 61}. Best is trial 2 with value: -1.42245751942422.\n"
     ]
    },
    {
     "name": "stderr",
     "output_type": "stream",
     "text": [
      "Best trial: 2. Best value: -1.42246:  25%|██▌       | 25/100 [00:13<00:47,  1.59it/s]"
     ]
    },
    {
     "name": "stdout",
     "output_type": "stream",
     "text": [
      "[I 2025-08-14 21:19:00,390] Trial 12 finished with value: -1.6691315592598224 and parameters: {'iterations': 800, 'depth': 11, 'learning_rate': 0.05489683134321446, 'l2_leaf_reg': 53.08891394879363, 'subsample': 0.5303363366675056, 'colsample_bylevel': 0.754085123189329, 'min_data_in_leaf': 91}. Best is trial 2 with value: -1.42245751942422.\n"
     ]
    },
    {
     "name": "stderr",
     "output_type": "stream",
     "text": [
      "\u001b[32m2025-08-14 21:19:00.683\u001b[0m | \u001b[1mINFO    \u001b[0m | \u001b[36moutboxml.hyperparameter_tuning\u001b[0m:\u001b[36m_prepare_catboost\u001b[0m:\u001b[36m176\u001b[0m - \u001b[1mNo objective in config||Using from init\u001b[0m\n",
      "\u001b[32m2025-08-14 21:19:00.779\u001b[0m | \u001b[1mINFO    \u001b[0m | \u001b[36moutboxml.hyperparameter_tuning\u001b[0m:\u001b[36m_prepare_catboost\u001b[0m:\u001b[36m176\u001b[0m - \u001b[1mNo objective in config||Using from init\u001b[0m\n",
      "Best trial: 2. Best value: -1.42246:  27%|██▋       | 27/100 [00:14<00:52,  1.40it/s]"
     ]
    },
    {
     "name": "stdout",
     "output_type": "stream",
     "text": [
      "[I 2025-08-14 21:19:01,392] Trial 36 finished with value: -3.083687028371987 and parameters: {'iterations': 500, 'depth': 5, 'learning_rate': 0.018943461535003123, 'l2_leaf_reg': 0.00015269569762263926, 'subsample': 0.42254751141372004, 'colsample_bylevel': 0.054757077810219434, 'min_data_in_leaf': 41}. Best is trial 2 with value: -1.42245751942422.\n",
      "[I 2025-08-14 21:19:01,402] Trial 34 finished with value: -3.0840481647184315 and parameters: {'iterations': 500, 'depth': 5, 'learning_rate': 0.018849185664385346, 'l2_leaf_reg': 1.0183138396110116e-05, 'subsample': 0.8115601410718016, 'colsample_bylevel': 0.057231231803813565, 'min_data_in_leaf': 41}. Best is trial 2 with value: -1.42245751942422.\n",
      "[I 2025-08-14 21:19:01,438] Trial 35 finished with value: -2.8928089303365545 and parameters: {'iterations': 500, 'depth': 5, 'learning_rate': 0.01906723107520112, 'l2_leaf_reg': 1.222590461116107e-05, 'subsample': 0.40278226504156545, 'colsample_bylevel': 0.06649887201642796, 'min_data_in_leaf': 41}. Best is trial 2 with value: -1.42245751942422.\n"
     ]
    },
    {
     "name": "stderr",
     "output_type": "stream",
     "text": [
      "\u001b[32m2025-08-14 21:19:01.694\u001b[0m | \u001b[1mINFO    \u001b[0m | \u001b[36moutboxml.hyperparameter_tuning\u001b[0m:\u001b[36m_prepare_catboost\u001b[0m:\u001b[36m176\u001b[0m - \u001b[1mNo objective in config||Using from init\u001b[0m\n",
      "\u001b[32m2025-08-14 21:19:01.829\u001b[0m | \u001b[1mINFO    \u001b[0m | \u001b[36moutboxml.hyperparameter_tuning\u001b[0m:\u001b[36m_prepare_catboost\u001b[0m:\u001b[36m176\u001b[0m - \u001b[1mNo objective in config||Using from init\u001b[0m\n",
      "\u001b[32m2025-08-14 21:19:01.869\u001b[0m | \u001b[1mINFO    \u001b[0m | \u001b[36moutboxml.hyperparameter_tuning\u001b[0m:\u001b[36m_prepare_catboost\u001b[0m:\u001b[36m176\u001b[0m - \u001b[1mNo objective in config||Using from init\u001b[0m\n",
      "Best trial: 2. Best value: -1.42246:  29%|██▉       | 29/100 [00:16<00:45,  1.57it/s]"
     ]
    },
    {
     "name": "stdout",
     "output_type": "stream",
     "text": [
      "[I 2025-08-14 21:19:03,137] Trial 38 finished with value: -1.5827434312012152 and parameters: {'iterations': 300, 'depth': 7, 'learning_rate': 0.027468848835735128, 'l2_leaf_reg': 6.209682867007356e-05, 'subsample': 0.6633281707248391, 'colsample_bylevel': 0.6149159406111792, 'min_data_in_leaf': 31}. Best is trial 2 with value: -1.42245751942422.\n"
     ]
    },
    {
     "name": "stderr",
     "output_type": "stream",
     "text": [
      "\u001b[32m2025-08-14 21:19:03.390\u001b[0m | \u001b[1mINFO    \u001b[0m | \u001b[36moutboxml.hyperparameter_tuning\u001b[0m:\u001b[36m_prepare_catboost\u001b[0m:\u001b[36m176\u001b[0m - \u001b[1mNo objective in config||Using from init\u001b[0m\n",
      "Best trial: 2. Best value: -1.42246:  30%|███       | 30/100 [00:16<00:46,  1.49it/s]"
     ]
    },
    {
     "name": "stdout",
     "output_type": "stream",
     "text": [
      "[I 2025-08-14 21:19:03,927] Trial 14 finished with value: -1.9091997989730174 and parameters: {'iterations': 800, 'depth': 11, 'learning_rate': 0.021996623081134557, 'l2_leaf_reg': 0.0026133340674739224, 'subsample': 0.4727132525239005, 'colsample_bylevel': 0.9853115970090899, 'min_data_in_leaf': 101}. Best is trial 2 with value: -1.42245751942422.\n"
     ]
    },
    {
     "name": "stderr",
     "output_type": "stream",
     "text": [
      "\u001b[32m2025-08-14 21:19:04.280\u001b[0m | \u001b[1mINFO    \u001b[0m | \u001b[36moutboxml.hyperparameter_tuning\u001b[0m:\u001b[36m_prepare_catboost\u001b[0m:\u001b[36m176\u001b[0m - \u001b[1mNo objective in config||Using from init\u001b[0m\n",
      "Best trial: 2. Best value: -1.42246:  31%|███       | 31/100 [00:17<00:48,  1.42it/s]"
     ]
    },
    {
     "name": "stdout",
     "output_type": "stream",
     "text": [
      "[I 2025-08-14 21:19:04,753] Trial 40 finished with value: -1.8096072263304244 and parameters: {'iterations': 200, 'depth': 9, 'learning_rate': 0.02977587912048997, 'l2_leaf_reg': 0.04416640683298925, 'subsample': 0.9328283593674136, 'colsample_bylevel': 0.5197315037917467, 'min_data_in_leaf': 51}. Best is trial 2 with value: -1.42245751942422.\n"
     ]
    },
    {
     "name": "stderr",
     "output_type": "stream",
     "text": [
      "\u001b[32m2025-08-14 21:19:05.070\u001b[0m | \u001b[1mINFO    \u001b[0m | \u001b[36moutboxml.hyperparameter_tuning\u001b[0m:\u001b[36m_prepare_catboost\u001b[0m:\u001b[36m176\u001b[0m - \u001b[1mNo objective in config||Using from init\u001b[0m\n",
      "Best trial: 2. Best value: -1.42246:  32%|███▏      | 32/100 [00:18<00:45,  1.49it/s]\u001b[32m2025-08-14 21:19:05.506\u001b[0m | \u001b[1mINFO    \u001b[0m | \u001b[36moutboxml.hyperparameter_tuning\u001b[0m:\u001b[36m_prepare_catboost\u001b[0m:\u001b[36m176\u001b[0m - \u001b[1mNo objective in config||Using from init\u001b[0m\n"
     ]
    },
    {
     "name": "stdout",
     "output_type": "stream",
     "text": [
      "[I 2025-08-14 21:19:05,327] Trial 41 finished with value: -1.9506858039193682 and parameters: {'iterations': 200, 'depth': 9, 'learning_rate': 0.02963578613705061, 'l2_leaf_reg': 0.04273212074228397, 'subsample': 0.575551682594847, 'colsample_bylevel': 0.5010946673679256, 'min_data_in_leaf': 51}. Best is trial 2 with value: -1.42245751942422.\n"
     ]
    },
    {
     "name": "stderr",
     "output_type": "stream",
     "text": [
      "Best trial: 42. Best value: -1.3438:  33%|███▎      | 33/100 [00:19<00:46,  1.45it/s]\u001b[32m2025-08-14 21:19:06.252\u001b[0m | \u001b[1mINFO    \u001b[0m | \u001b[36moutboxml.hyperparameter_tuning\u001b[0m:\u001b[36m_prepare_catboost\u001b[0m:\u001b[36m176\u001b[0m - \u001b[1mNo objective in config||Using from init\u001b[0m\n"
     ]
    },
    {
     "name": "stdout",
     "output_type": "stream",
     "text": [
      "[I 2025-08-14 21:19:06,019] Trial 42 finished with value: -1.3438035944830877 and parameters: {'iterations': 400, 'depth': 3, 'learning_rate': 0.042415411509981876, 'l2_leaf_reg': 0.038302700624479484, 'subsample': 0.568369757615935, 'colsample_bylevel': 0.8469709193348847, 'min_data_in_leaf': 71}. Best is trial 42 with value: -1.3438035944830877.\n"
     ]
    },
    {
     "name": "stderr",
     "output_type": "stream",
     "text": [
      "Best trial: 42. Best value: -1.3438:  34%|███▍      | 34/100 [00:19<00:42,  1.57it/s]"
     ]
    },
    {
     "name": "stdout",
     "output_type": "stream",
     "text": [
      "[I 2025-08-14 21:19:06,543] Trial 43 finished with value: -1.3618780855457324 and parameters: {'iterations': 400, 'depth': 3, 'learning_rate': 0.04423758107952198, 'l2_leaf_reg': 0.015124242706253968, 'subsample': 0.5473053239400655, 'colsample_bylevel': 0.9049761000658472, 'min_data_in_leaf': 71}. Best is trial 42 with value: -1.3438035944830877.\n"
     ]
    },
    {
     "name": "stderr",
     "output_type": "stream",
     "text": [
      "\u001b[32m2025-08-14 21:19:06.787\u001b[0m | \u001b[1mINFO    \u001b[0m | \u001b[36moutboxml.hyperparameter_tuning\u001b[0m:\u001b[36m_prepare_catboost\u001b[0m:\u001b[36m176\u001b[0m - \u001b[1mNo objective in config||Using from init\u001b[0m\n",
      "Best trial: 42. Best value: -1.3438:  35%|███▌      | 35/100 [00:20<00:43,  1.48it/s]\u001b[32m2025-08-14 21:19:07.439\u001b[0m | \u001b[1mINFO    \u001b[0m | \u001b[36moutboxml.hyperparameter_tuning\u001b[0m:\u001b[36m_prepare_catboost\u001b[0m:\u001b[36m176\u001b[0m - \u001b[1mNo objective in config||Using from init\u001b[0m\n"
     ]
    },
    {
     "name": "stdout",
     "output_type": "stream",
     "text": [
      "[I 2025-08-14 21:19:07,316] Trial 44 finished with value: -1.384661437330994 and parameters: {'iterations': 400, 'depth': 3, 'learning_rate': 0.04957622412347123, 'l2_leaf_reg': 0.020986261073952423, 'subsample': 0.7069140786900167, 'colsample_bylevel': 0.8765845667042638, 'min_data_in_leaf': 71}. Best is trial 42 with value: -1.3438035944830877.\n"
     ]
    },
    {
     "name": "stderr",
     "output_type": "stream",
     "text": [
      "Best trial: 42. Best value: -1.3438:  36%|███▌      | 36/100 [00:21<00:43,  1.46it/s]\u001b[32m2025-08-14 21:19:08.196\u001b[0m | \u001b[1mINFO    \u001b[0m | \u001b[36moutboxml.hyperparameter_tuning\u001b[0m:\u001b[36m_prepare_catboost\u001b[0m:\u001b[36m176\u001b[0m - \u001b[1mNo objective in config||Using from init\u001b[0m\n"
     ]
    },
    {
     "name": "stdout",
     "output_type": "stream",
     "text": [
      "[I 2025-08-14 21:19:08,021] Trial 46 finished with value: -1.3966492209933294 and parameters: {'iterations': 300, 'depth': 3, 'learning_rate': 0.044455982461673225, 'l2_leaf_reg': 0.018405228798847928, 'subsample': 0.6978773734060608, 'colsample_bylevel': 0.916564799914404, 'min_data_in_leaf': 71}. Best is trial 42 with value: -1.3438035944830877.\n"
     ]
    },
    {
     "name": "stderr",
     "output_type": "stream",
     "text": [
      "Best trial: 42. Best value: -1.3438:  37%|███▋      | 37/100 [00:26<02:14,  2.13s/it]\u001b[32m2025-08-14 21:19:13.826\u001b[0m | \u001b[1mINFO    \u001b[0m | \u001b[36moutboxml.hyperparameter_tuning\u001b[0m:\u001b[36m_prepare_catboost\u001b[0m:\u001b[36m176\u001b[0m - \u001b[1mNo objective in config||Using from init\u001b[0m\n"
     ]
    },
    {
     "name": "stdout",
     "output_type": "stream",
     "text": [
      "[I 2025-08-14 21:19:13,693] Trial 39 finished with value: -1.9279814106116522 and parameters: {'iterations': 300, 'depth': 15, 'learning_rate': 0.027093004591840632, 'l2_leaf_reg': 5.014780830512333, 'subsample': 0.6804553350663962, 'colsample_bylevel': 0.6106451092206964, 'min_data_in_leaf': 31}. Best is trial 42 with value: -1.3438035944830877.\n"
     ]
    },
    {
     "name": "stderr",
     "output_type": "stream",
     "text": [
      "Best trial: 48. Best value: -1.31582:  38%|███▊      | 38/100 [00:27<01:54,  1.84s/it]\u001b[32m2025-08-14 21:19:14.983\u001b[0m | \u001b[1mINFO    \u001b[0m | \u001b[36moutboxml.hyperparameter_tuning\u001b[0m:\u001b[36m_prepare_catboost\u001b[0m:\u001b[36m176\u001b[0m - \u001b[1mNo objective in config||Using from init\u001b[0m\n"
     ]
    },
    {
     "name": "stdout",
     "output_type": "stream",
     "text": [
      "[I 2025-08-14 21:19:14,866] Trial 48 finished with value: -1.315822086193908 and parameters: {'iterations': 400, 'depth': 3, 'learning_rate': 0.04571494083621341, 'l2_leaf_reg': 0.01330631984525565, 'subsample': 0.7729884445424856, 'colsample_bylevel': 0.9024515976188195, 'min_data_in_leaf': 71}. Best is trial 48 with value: -1.315822086193908.\n"
     ]
    },
    {
     "name": "stderr",
     "output_type": "stream",
     "text": [
      "Best trial: 48. Best value: -1.31582:  39%|███▉      | 39/100 [00:28<01:35,  1.56s/it]\u001b[32m2025-08-14 21:19:15.864\u001b[0m | \u001b[1mINFO    \u001b[0m | \u001b[36moutboxml.hyperparameter_tuning\u001b[0m:\u001b[36m_prepare_catboost\u001b[0m:\u001b[36m176\u001b[0m - \u001b[1mNo objective in config||Using from init\u001b[0m\n"
     ]
    },
    {
     "name": "stdout",
     "output_type": "stream",
     "text": [
      "[I 2025-08-14 21:19:15,734] Trial 49 finished with value: -1.3545432420156331 and parameters: {'iterations': 400, 'depth': 3, 'learning_rate': 0.04782302268484836, 'l2_leaf_reg': 0.15264887611116396, 'subsample': 0.7766598777637709, 'colsample_bylevel': 0.9109907018506243, 'min_data_in_leaf': 71}. Best is trial 48 with value: -1.315822086193908.\n"
     ]
    },
    {
     "name": "stderr",
     "output_type": "stream",
     "text": [
      "Best trial: 48. Best value: -1.31582:  40%|████      | 40/100 [00:29<01:21,  1.35s/it]\u001b[32m2025-08-14 21:19:16.728\u001b[0m | \u001b[1mINFO    \u001b[0m | \u001b[36moutboxml.hyperparameter_tuning\u001b[0m:\u001b[36m_prepare_catboost\u001b[0m:\u001b[36m176\u001b[0m - \u001b[1mNo objective in config||Using from init\u001b[0m\n"
     ]
    },
    {
     "name": "stdout",
     "output_type": "stream",
     "text": [
      "[I 2025-08-14 21:19:16,588] Trial 50 finished with value: -1.5364622410276931 and parameters: {'iterations': 600, 'depth': 1, 'learning_rate': 0.03948746197892377, 'l2_leaf_reg': 0.14180637761689577, 'subsample': 0.7983282234136526, 'colsample_bylevel': 0.7928659860593983, 'min_data_in_leaf': 71}. Best is trial 48 with value: -1.315822086193908.\n"
     ]
    },
    {
     "name": "stderr",
     "output_type": "stream",
     "text": [
      "Best trial: 48. Best value: -1.31582:  41%|████      | 41/100 [00:30<01:19,  1.35s/it]\u001b[32m2025-08-14 21:19:18.086\u001b[0m | \u001b[1mINFO    \u001b[0m | \u001b[36moutboxml.hyperparameter_tuning\u001b[0m:\u001b[36m_prepare_catboost\u001b[0m:\u001b[36m176\u001b[0m - \u001b[1mNo objective in config||Using from init\u001b[0m\n"
     ]
    },
    {
     "name": "stdout",
     "output_type": "stream",
     "text": [
      "[I 2025-08-14 21:19:17,930] Trial 51 finished with value: -1.3550596547206402 and parameters: {'iterations': 700, 'depth': 3, 'learning_rate': 0.06632657107924615, 'l2_leaf_reg': 0.10639407956800669, 'subsample': 0.9143623640567013, 'colsample_bylevel': 0.9084464432330881, 'min_data_in_leaf': 81}. Best is trial 48 with value: -1.315822086193908.\n"
     ]
    },
    {
     "name": "stderr",
     "output_type": "stream",
     "text": [
      "Best trial: 48. Best value: -1.31582:  42%|████▏     | 42/100 [00:32<01:14,  1.29s/it]"
     ]
    },
    {
     "name": "stdout",
     "output_type": "stream",
     "text": [
      "[I 2025-08-14 21:19:19,068] Trial 37 finished with value: -1.7892836652733382 and parameters: {'iterations': 300, 'depth': 15, 'learning_rate': 0.027474712569976866, 'l2_leaf_reg': 4.7801294361288517e-05, 'subsample': 0.934195447707508, 'colsample_bylevel': 0.6097246597478423, 'min_data_in_leaf': 31}. Best is trial 48 with value: -1.315822086193908.\n"
     ]
    },
    {
     "name": "stderr",
     "output_type": "stream",
     "text": [
      "\u001b[32m2025-08-14 21:19:19.366\u001b[0m | \u001b[1mINFO    \u001b[0m | \u001b[36moutboxml.hyperparameter_tuning\u001b[0m:\u001b[36m_prepare_catboost\u001b[0m:\u001b[36m176\u001b[0m - \u001b[1mNo objective in config||Using from init\u001b[0m\n",
      "Best trial: 48. Best value: -1.31582:  43%|████▎     | 43/100 [00:32<01:02,  1.10s/it]"
     ]
    },
    {
     "name": "stdout",
     "output_type": "stream",
     "text": [
      "[I 2025-08-14 21:19:19,750] Trial 52 finished with value: -1.4402514522301395 and parameters: {'iterations': 700, 'depth': 3, 'learning_rate': 0.062013308444078104, 'l2_leaf_reg': 0.11234431816478152, 'subsample': 0.981146885987264, 'colsample_bylevel': 0.9150169199581293, 'min_data_in_leaf': 81}. Best is trial 48 with value: -1.315822086193908.\n"
     ]
    },
    {
     "name": "stderr",
     "output_type": "stream",
     "text": [
      "\u001b[32m2025-08-14 21:19:20.032\u001b[0m | \u001b[1mINFO    \u001b[0m | \u001b[36moutboxml.hyperparameter_tuning\u001b[0m:\u001b[36m_prepare_catboost\u001b[0m:\u001b[36m176\u001b[0m - \u001b[1mNo objective in config||Using from init\u001b[0m\n",
      "Best trial: 48. Best value: -1.31582:  44%|████▍     | 44/100 [00:33<00:57,  1.03s/it]"
     ]
    },
    {
     "name": "stdout",
     "output_type": "stream",
     "text": [
      "[I 2025-08-14 21:19:20,588] Trial 53 finished with value: -1.4198547711776868 and parameters: {'iterations': 400, 'depth': 3, 'learning_rate': 0.06283032290245821, 'l2_leaf_reg': 0.12889432605935297, 'subsample': 0.9766929565785047, 'colsample_bylevel': 0.9136227464201409, 'min_data_in_leaf': 81}. Best is trial 48 with value: -1.315822086193908.\n"
     ]
    },
    {
     "name": "stderr",
     "output_type": "stream",
     "text": [
      "\u001b[32m2025-08-14 21:19:21.025\u001b[0m | \u001b[1mINFO    \u001b[0m | \u001b[36moutboxml.hyperparameter_tuning\u001b[0m:\u001b[36m_prepare_catboost\u001b[0m:\u001b[36m176\u001b[0m - \u001b[1mNo objective in config||Using from init\u001b[0m\n",
      "Best trial: 48. Best value: -1.31582:  45%|████▌     | 45/100 [00:35<01:02,  1.13s/it]\u001b[32m2025-08-14 21:19:22.134\u001b[0m | \u001b[1mINFO    \u001b[0m | \u001b[36moutboxml.hyperparameter_tuning\u001b[0m:\u001b[36m_prepare_catboost\u001b[0m:\u001b[36m176\u001b[0m - \u001b[1mNo objective in config||Using from init\u001b[0m\n"
     ]
    },
    {
     "name": "stdout",
     "output_type": "stream",
     "text": [
      "[I 2025-08-14 21:19:22,005] Trial 54 finished with value: -1.4205328970535887 and parameters: {'iterations': 700, 'depth': 3, 'learning_rate': 0.06326661136041074, 'l2_leaf_reg': 0.011877987076284067, 'subsample': 0.8863076487786428, 'colsample_bylevel': 0.9267136783070864, 'min_data_in_leaf': 81}. Best is trial 48 with value: -1.315822086193908.\n"
     ]
    },
    {
     "name": "stderr",
     "output_type": "stream",
     "text": [
      "Best trial: 48. Best value: -1.31582:  46%|████▌     | 46/100 [00:35<00:50,  1.08it/s]\u001b[32m2025-08-14 21:19:22.643\u001b[0m | \u001b[1mINFO    \u001b[0m | \u001b[36moutboxml.hyperparameter_tuning\u001b[0m:\u001b[36m_prepare_catboost\u001b[0m:\u001b[36m176\u001b[0m - \u001b[1mNo objective in config||Using from init\u001b[0m\n"
     ]
    },
    {
     "name": "stdout",
     "output_type": "stream",
     "text": [
      "[I 2025-08-14 21:19:22,453] Trial 55 finished with value: -1.3793637827752079 and parameters: {'iterations': 700, 'depth': 3, 'learning_rate': 0.04998599586871215, 'l2_leaf_reg': 0.010664972014088501, 'subsample': 0.8600710910127618, 'colsample_bylevel': 0.7735987465590324, 'min_data_in_leaf': 81}. Best is trial 48 with value: -1.315822086193908.\n"
     ]
    },
    {
     "name": "stderr",
     "output_type": "stream",
     "text": [
      "Best trial: 48. Best value: -1.31582:  47%|████▋     | 47/100 [00:35<00:39,  1.33it/s]"
     ]
    },
    {
     "name": "stdout",
     "output_type": "stream",
     "text": [
      "[I 2025-08-14 21:19:22,773] Trial 56 finished with value: -1.5221885164425988 and parameters: {'iterations': 400, 'depth': 1, 'learning_rate': 0.08064059944409774, 'l2_leaf_reg': 0.2727296680579615, 'subsample': 0.7617474321231359, 'colsample_bylevel': 0.7727145071421999, 'min_data_in_leaf': 61}. Best is trial 48 with value: -1.315822086193908.\n"
     ]
    },
    {
     "name": "stderr",
     "output_type": "stream",
     "text": [
      "\u001b[32m2025-08-14 21:19:23.075\u001b[0m | \u001b[1mINFO    \u001b[0m | \u001b[36moutboxml.hyperparameter_tuning\u001b[0m:\u001b[36m_prepare_catboost\u001b[0m:\u001b[36m176\u001b[0m - \u001b[1mNo objective in config||Using from init\u001b[0m\n",
      "Best trial: 48. Best value: -1.31582:  48%|████▊     | 48/100 [00:36<00:36,  1.42it/s]"
     ]
    },
    {
     "name": "stdout",
     "output_type": "stream",
     "text": [
      "[I 2025-08-14 21:19:23,345] Trial 57 finished with value: -1.4999293977255685 and parameters: {'iterations': 400, 'depth': 1, 'learning_rate': 0.08083949385453992, 'l2_leaf_reg': 0.30098974134363843, 'subsample': 0.7601600571451212, 'colsample_bylevel': 0.8492532796156452, 'min_data_in_leaf': 61}. Best is trial 48 with value: -1.315822086193908.\n"
     ]
    },
    {
     "name": "stderr",
     "output_type": "stream",
     "text": [
      "Best trial: 48. Best value: -1.31582:  48%|████▊     | 48/100 [00:36<00:36,  1.42it/s]\u001b[32m2025-08-14 21:19:23.715\u001b[0m | \u001b[1mINFO    \u001b[0m | \u001b[36moutboxml.hyperparameter_tuning\u001b[0m:\u001b[36m_prepare_catboost\u001b[0m:\u001b[36m176\u001b[0m - \u001b[1mNo objective in config||Using from init\u001b[0m\n",
      "Best trial: 48. Best value: -1.31582:  49%|████▉     | 49/100 [00:36<00:30,  1.69it/s]"
     ]
    },
    {
     "name": "stdout",
     "output_type": "stream",
     "text": [
      "[I 2025-08-14 21:19:23,702] Trial 58 finished with value: -1.9072976153593213 and parameters: {'iterations': 200, 'depth': 1, 'learning_rate': 0.04387446076535457, 'l2_leaf_reg': 0.00239874602392724, 'subsample': 0.8103598813051236, 'colsample_bylevel': 0.8567684002381419, 'min_data_in_leaf': 91}. Best is trial 48 with value: -1.315822086193908.\n"
     ]
    },
    {
     "name": "stderr",
     "output_type": "stream",
     "text": [
      "\u001b[32m2025-08-14 21:19:23.997\u001b[0m | \u001b[1mINFO    \u001b[0m | \u001b[36moutboxml.hyperparameter_tuning\u001b[0m:\u001b[36m_prepare_catboost\u001b[0m:\u001b[36m176\u001b[0m - \u001b[1mNo objective in config||Using from init\u001b[0m\n",
      "Best trial: 48. Best value: -1.31582:  50%|█████     | 50/100 [00:38<00:40,  1.23it/s]\u001b[32m2025-08-14 21:19:25.153\u001b[0m | \u001b[1mINFO    \u001b[0m | \u001b[36moutboxml.hyperparameter_tuning\u001b[0m:\u001b[36m_prepare_catboost\u001b[0m:\u001b[36m176\u001b[0m - \u001b[1mNo objective in config||Using from init\u001b[0m\n"
     ]
    },
    {
     "name": "stdout",
     "output_type": "stream",
     "text": [
      "[I 2025-08-14 21:19:25,055] Trial 59 finished with value: -1.6287667475134562 and parameters: {'iterations': 200, 'depth': 7, 'learning_rate': 0.04178320050033855, 'l2_leaf_reg': 0.0027112356533858903, 'subsample': 0.8161554398360896, 'colsample_bylevel': 0.7105671708935628, 'min_data_in_leaf': 91}. Best is trial 48 with value: -1.315822086193908.\n"
     ]
    },
    {
     "name": "stderr",
     "output_type": "stream",
     "text": [
      "Best trial: 48. Best value: -1.31582:  51%|█████     | 51/100 [00:38<00:31,  1.55it/s]\u001b[32m2025-08-14 21:19:25.477\u001b[0m | \u001b[1mINFO    \u001b[0m | \u001b[36moutboxml.hyperparameter_tuning\u001b[0m:\u001b[36m_prepare_catboost\u001b[0m:\u001b[36m176\u001b[0m - \u001b[1mNo objective in config||Using from init\u001b[0m\n"
     ]
    },
    {
     "name": "stdout",
     "output_type": "stream",
     "text": [
      "[I 2025-08-14 21:19:25,275] Trial 60 finished with value: -1.3567248296115266 and parameters: {'iterations': 600, 'depth': 3, 'learning_rate': 0.05140737974408203, 'l2_leaf_reg': 0.06060642211430992, 'subsample': 0.9330587588481659, 'colsample_bylevel': 0.7082474243800816, 'min_data_in_leaf': 71}. Best is trial 48 with value: -1.315822086193908.\n"
     ]
    },
    {
     "name": "stderr",
     "output_type": "stream",
     "text": [
      "Best trial: 48. Best value: -1.31582:  52%|█████▏    | 52/100 [00:39<00:42,  1.14it/s]"
     ]
    },
    {
     "name": "stdout",
     "output_type": "stream",
     "text": [
      "[I 2025-08-14 21:19:26,713] Trial 62 finished with value: -1.324143123667307 and parameters: {'iterations': 600, 'depth': 3, 'learning_rate': 0.05052326201419245, 'l2_leaf_reg': 0.07006040082746173, 'subsample': 0.9282325112073657, 'colsample_bylevel': 0.8221328978074075, 'min_data_in_leaf': 71}. Best is trial 48 with value: -1.315822086193908.\n",
      "[I 2025-08-14 21:19:26,806] Trial 61 finished with value: -1.4173927943799587 and parameters: {'iterations': 900, 'depth': 3, 'learning_rate': 0.050506617476707254, 'l2_leaf_reg': 0.05866227181471205, 'subsample': 0.9130103585209353, 'colsample_bylevel': 0.9455648182565933, 'min_data_in_leaf': 71}. Best is trial 48 with value: -1.315822086193908.\n"
     ]
    },
    {
     "name": "stderr",
     "output_type": "stream",
     "text": [
      "\u001b[32m2025-08-14 21:19:26.956\u001b[0m | \u001b[1mINFO    \u001b[0m | \u001b[36moutboxml.hyperparameter_tuning\u001b[0m:\u001b[36m_prepare_catboost\u001b[0m:\u001b[36m176\u001b[0m - \u001b[1mNo objective in config||Using from init\u001b[0m\n",
      "\u001b[32m2025-08-14 21:19:27.058\u001b[0m | \u001b[1mINFO    \u001b[0m | \u001b[36moutboxml.hyperparameter_tuning\u001b[0m:\u001b[36m_prepare_catboost\u001b[0m:\u001b[36m176\u001b[0m - \u001b[1mNo objective in config||Using from init\u001b[0m\n",
      "Best trial: 48. Best value: -1.31582:  54%|█████▍    | 54/100 [00:41<00:39,  1.18it/s]"
     ]
    },
    {
     "name": "stdout",
     "output_type": "stream",
     "text": [
      "[I 2025-08-14 21:19:28,347] Trial 64 finished with value: -1.3286796848334983 and parameters: {'iterations': 600, 'depth': 3, 'learning_rate': 0.03780289277779947, 'l2_leaf_reg': 0.07663841021583064, 'subsample': 0.8945635917061192, 'colsample_bylevel': 0.8229806184289385, 'min_data_in_leaf': 71}. Best is trial 48 with value: -1.315822086193908.\n",
      "[I 2025-08-14 21:19:28,376] Trial 63 finished with value: -1.3394245962913367 and parameters: {'iterations': 600, 'depth': 3, 'learning_rate': 0.0494781851206862, 'l2_leaf_reg': 0.059727601533972295, 'subsample': 0.9219598682191871, 'colsample_bylevel': 0.8198711646159493, 'min_data_in_leaf': 71}. Best is trial 48 with value: -1.315822086193908.\n"
     ]
    },
    {
     "name": "stderr",
     "output_type": "stream",
     "text": [
      "\u001b[32m2025-08-14 21:19:28.608\u001b[0m | \u001b[1mINFO    \u001b[0m | \u001b[36moutboxml.hyperparameter_tuning\u001b[0m:\u001b[36m_prepare_catboost\u001b[0m:\u001b[36m176\u001b[0m - \u001b[1mNo objective in config||Using from init\u001b[0m\n",
      "\u001b[32m2025-08-14 21:19:28.616\u001b[0m | \u001b[1mINFO    \u001b[0m | \u001b[36moutboxml.hyperparameter_tuning\u001b[0m:\u001b[36m_prepare_catboost\u001b[0m:\u001b[36m176\u001b[0m - \u001b[1mNo objective in config||Using from init\u001b[0m\n",
      "Best trial: 48. Best value: -1.31582:  56%|█████▌    | 56/100 [00:42<00:28,  1.53it/s]"
     ]
    },
    {
     "name": "stdout",
     "output_type": "stream",
     "text": [
      "[I 2025-08-14 21:19:29,033] Trial 8 finished with value: -2.073285355296687 and parameters: {'iterations': 400, 'depth': 15, 'learning_rate': 0.025100348040698852, 'l2_leaf_reg': 0.0002023437790329859, 'subsample': 0.30960070543613905, 'colsample_bylevel': 0.8157113138609, 'min_data_in_leaf': 91}. Best is trial 48 with value: -1.315822086193908.\n"
     ]
    },
    {
     "name": "stderr",
     "output_type": "stream",
     "text": [
      "\u001b[32m2025-08-14 21:19:29.307\u001b[0m | \u001b[1mINFO    \u001b[0m | \u001b[36moutboxml.hyperparameter_tuning\u001b[0m:\u001b[36m_prepare_catboost\u001b[0m:\u001b[36m176\u001b[0m - \u001b[1mNo objective in config||Using from init\u001b[0m\n",
      "Best trial: 48. Best value: -1.31582:  57%|█████▋    | 57/100 [00:43<00:34,  1.25it/s]"
     ]
    },
    {
     "name": "stdout",
     "output_type": "stream",
     "text": [
      "[I 2025-08-14 21:19:30,347] Trial 66 finished with value: -1.5246487276903995 and parameters: {'iterations': 600, 'depth': 5, 'learning_rate': 0.03854417278185253, 'l2_leaf_reg': 0.6506879460114857, 'subsample': 0.8400779449475073, 'colsample_bylevel': 0.8225199939119645, 'min_data_in_leaf': 61}. Best is trial 48 with value: -1.315822086193908.\n"
     ]
    },
    {
     "name": "stderr",
     "output_type": "stream",
     "text": [
      "\u001b[32m2025-08-14 21:19:30.580\u001b[0m | \u001b[1mINFO    \u001b[0m | \u001b[36moutboxml.hyperparameter_tuning\u001b[0m:\u001b[36m_prepare_catboost\u001b[0m:\u001b[36m176\u001b[0m - \u001b[1mNo objective in config||Using from init\u001b[0m\n",
      "Best trial: 48. Best value: -1.31582:  58%|█████▊    | 58/100 [00:44<00:31,  1.34it/s]"
     ]
    },
    {
     "name": "stdout",
     "output_type": "stream",
     "text": [
      "[I 2025-08-14 21:19:30,949] Trial 65 finished with value: -1.4015603754905672 and parameters: {'iterations': 700, 'depth': 5, 'learning_rate': 0.03721405714813636, 'l2_leaf_reg': 0.5854219545093141, 'subsample': 0.8936024164617055, 'colsample_bylevel': 0.8219194053701896, 'min_data_in_leaf': 81}. Best is trial 48 with value: -1.315822086193908.\n",
      "[I 2025-08-14 21:19:30,958] Trial 67 finished with value: -1.4453007143545793 and parameters: {'iterations': 500, 'depth': 5, 'learning_rate': 0.036402469307158535, 'l2_leaf_reg': 0.7024048912836793, 'subsample': 0.873290833768855, 'colsample_bylevel': 0.8174961600634413, 'min_data_in_leaf': 61}. Best is trial 48 with value: -1.315822086193908.\n"
     ]
    },
    {
     "name": "stderr",
     "output_type": "stream",
     "text": [
      "\u001b[32m2025-08-14 21:19:31.280\u001b[0m | \u001b[1mINFO    \u001b[0m | \u001b[36moutboxml.hyperparameter_tuning\u001b[0m:\u001b[36m_prepare_catboost\u001b[0m:\u001b[36m176\u001b[0m - \u001b[1mNo objective in config||Using from init\u001b[0m\n",
      "\u001b[32m2025-08-14 21:19:31.341\u001b[0m | \u001b[1mINFO    \u001b[0m | \u001b[36moutboxml.hyperparameter_tuning\u001b[0m:\u001b[36m_prepare_catboost\u001b[0m:\u001b[36m176\u001b[0m - \u001b[1mNo objective in config||Using from init\u001b[0m\n",
      "Best trial: 48. Best value: -1.31582:  60%|██████    | 60/100 [00:44<00:24,  1.66it/s]"
     ]
    },
    {
     "name": "stdout",
     "output_type": "stream",
     "text": [
      "[I 2025-08-14 21:19:31,701] Trial 68 finished with value: -1.6524874876446882 and parameters: {'iterations': 500, 'depth': 1, 'learning_rate': 0.036340475450224015, 'l2_leaf_reg': 0.028271055906263894, 'subsample': 0.8926990128414763, 'colsample_bylevel': 0.6580530140005605, 'min_data_in_leaf': 51}. Best is trial 48 with value: -1.315822086193908.\n"
     ]
    },
    {
     "name": "stderr",
     "output_type": "stream",
     "text": [
      "\u001b[32m2025-08-14 21:19:32.011\u001b[0m | \u001b[1mINFO    \u001b[0m | \u001b[36moutboxml.hyperparameter_tuning\u001b[0m:\u001b[36m_prepare_catboost\u001b[0m:\u001b[36m176\u001b[0m - \u001b[1mNo objective in config||Using from init\u001b[0m\n",
      "Best trial: 48. Best value: -1.31582:  61%|██████    | 61/100 [00:45<00:24,  1.57it/s]"
     ]
    },
    {
     "name": "stdout",
     "output_type": "stream",
     "text": [
      "[I 2025-08-14 21:19:32,431] Trial 70 finished with value: -1.5570969963036767 and parameters: {'iterations': 600, 'depth': 1, 'learning_rate': 0.054545198814479015, 'l2_leaf_reg': 0.03047915308459285, 'subsample': 0.9973865383045941, 'colsample_bylevel': 0.9588304281790604, 'min_data_in_leaf': 51}. Best is trial 48 with value: -1.315822086193908.\n",
      "[I 2025-08-14 21:19:32,436] Trial 69 finished with value: -1.562162664130797 and parameters: {'iterations': 600, 'depth': 1, 'learning_rate': 0.057814116499583054, 'l2_leaf_reg': 1.7228585657966888, 'subsample': 0.9916227890269796, 'colsample_bylevel': 0.6780513247525958, 'min_data_in_leaf': 51}. Best is trial 48 with value: -1.315822086193908.\n"
     ]
    },
    {
     "name": "stderr",
     "output_type": "stream",
     "text": [
      "\u001b[32m2025-08-14 21:19:32.725\u001b[0m | \u001b[1mINFO    \u001b[0m | \u001b[36moutboxml.hyperparameter_tuning\u001b[0m:\u001b[36m_prepare_catboost\u001b[0m:\u001b[36m176\u001b[0m - \u001b[1mNo objective in config||Using from init\u001b[0m\n",
      "\u001b[32m2025-08-14 21:19:32.776\u001b[0m | \u001b[1mINFO    \u001b[0m | \u001b[36moutboxml.hyperparameter_tuning\u001b[0m:\u001b[36m_prepare_catboost\u001b[0m:\u001b[36m176\u001b[0m - \u001b[1mNo objective in config||Using from init\u001b[0m\n",
      "Best trial: 48. Best value: -1.31582:  63%|██████▎   | 63/100 [00:46<00:18,  1.97it/s]\u001b[32m2025-08-14 21:19:33.257\u001b[0m | \u001b[1mINFO    \u001b[0m | \u001b[36moutboxml.hyperparameter_tuning\u001b[0m:\u001b[36m_prepare_catboost\u001b[0m:\u001b[36m176\u001b[0m - \u001b[1mNo objective in config||Using from init\u001b[0m\n"
     ]
    },
    {
     "name": "stdout",
     "output_type": "stream",
     "text": [
      "[I 2025-08-14 21:19:33,101] Trial 71 finished with value: -1.546747517984122 and parameters: {'iterations': 600, 'depth': 1, 'learning_rate': 0.05518842772501647, 'l2_leaf_reg': 0.006443735430652298, 'subsample': 0.9533353280634624, 'colsample_bylevel': 0.952081076840077, 'min_data_in_leaf': 71}. Best is trial 48 with value: -1.315822086193908.\n"
     ]
    },
    {
     "name": "stderr",
     "output_type": "stream",
     "text": [
      "Best trial: 48. Best value: -1.31582:  64%|██████▍   | 64/100 [00:47<00:23,  1.53it/s]\u001b[32m2025-08-14 21:19:34.449\u001b[0m | \u001b[1mINFO    \u001b[0m | \u001b[36moutboxml.hyperparameter_tuning\u001b[0m:\u001b[36m_prepare_catboost\u001b[0m:\u001b[36m176\u001b[0m - \u001b[1mNo objective in config||Using from init\u001b[0m\n"
     ]
    },
    {
     "name": "stdout",
     "output_type": "stream",
     "text": [
      "[I 2025-08-14 21:19:34,278] Trial 72 finished with value: -1.3649243236567343 and parameters: {'iterations': 700, 'depth': 3, 'learning_rate': 0.04721576910366363, 'l2_leaf_reg': 0.1755525248159027, 'subsample': 0.9534902261071994, 'colsample_bylevel': 0.8827047446585659, 'min_data_in_leaf': 71}. Best is trial 48 with value: -1.315822086193908.\n"
     ]
    },
    {
     "name": "stderr",
     "output_type": "stream",
     "text": [
      "Best trial: 48. Best value: -1.31582:  65%|██████▌   | 65/100 [00:47<00:19,  1.81it/s]\u001b[32m2025-08-14 21:19:34.654\u001b[0m | \u001b[1mINFO    \u001b[0m | \u001b[36moutboxml.hyperparameter_tuning\u001b[0m:\u001b[36m_prepare_catboost\u001b[0m:\u001b[36m176\u001b[0m - \u001b[1mNo objective in config||Using from init\u001b[0m\n"
     ]
    },
    {
     "name": "stdout",
     "output_type": "stream",
     "text": [
      "[I 2025-08-14 21:19:34,496] Trial 73 finished with value: -1.3951256490688542 and parameters: {'iterations': 900, 'depth': 3, 'learning_rate': 0.047739652442424424, 'l2_leaf_reg': 0.18190024926645024, 'subsample': 0.9496252255331677, 'colsample_bylevel': 0.8836588840102833, 'min_data_in_leaf': 71}. Best is trial 48 with value: -1.315822086193908.\n"
     ]
    },
    {
     "name": "stderr",
     "output_type": "stream",
     "text": [
      "Best trial: 48. Best value: -1.31582:  66%|██████▌   | 66/100 [00:47<00:17,  1.96it/s]"
     ]
    },
    {
     "name": "stdout",
     "output_type": "stream",
     "text": [
      "[I 2025-08-14 21:19:34,861] Trial 74 finished with value: -1.4152415168405914 and parameters: {'iterations': 700, 'depth': 3, 'learning_rate': 0.04700003418730164, 'l2_leaf_reg': 0.1767747051032184, 'subsample': 0.8342719507703056, 'colsample_bylevel': 0.8810190322191271, 'min_data_in_leaf': 91}. Best is trial 48 with value: -1.315822086193908.\n"
     ]
    },
    {
     "name": "stderr",
     "output_type": "stream",
     "text": [
      "\u001b[32m2025-08-14 21:19:35.151\u001b[0m | \u001b[1mINFO    \u001b[0m | \u001b[36moutboxml.hyperparameter_tuning\u001b[0m:\u001b[36m_prepare_catboost\u001b[0m:\u001b[36m176\u001b[0m - \u001b[1mNo objective in config||Using from init\u001b[0m\n",
      "Best trial: 48. Best value: -1.31582:  67%|██████▋   | 67/100 [00:49<00:20,  1.63it/s]\u001b[32m2025-08-14 21:19:35.998\u001b[0m | \u001b[1mINFO    \u001b[0m | \u001b[36moutboxml.hyperparameter_tuning\u001b[0m:\u001b[36m_prepare_catboost\u001b[0m:\u001b[36m176\u001b[0m - \u001b[1mNo objective in config||Using from init\u001b[0m\n"
     ]
    },
    {
     "name": "stdout",
     "output_type": "stream",
     "text": [
      "[I 2025-08-14 21:19:35,777] Trial 76 finished with value: -1.4389539557290991 and parameters: {'iterations': 500, 'depth': 3, 'learning_rate': 0.04185988763818174, 'l2_leaf_reg': 0.0957969076052159, 'subsample': 0.05038690879982466, 'colsample_bylevel': 0.7473499472610294, 'min_data_in_leaf': 91}. Best is trial 48 with value: -1.315822086193908.\n",
      "[I 2025-08-14 21:19:35,974] Trial 75 finished with value: -1.3627416832282797 and parameters: {'iterations': 900, 'depth': 3, 'learning_rate': 0.0703745458767989, 'l2_leaf_reg': 0.0741033166087252, 'subsample': 0.24170290052381965, 'colsample_bylevel': 0.3514596815966651, 'min_data_in_leaf': 81}. Best is trial 48 with value: -1.315822086193908.\n"
     ]
    },
    {
     "name": "stderr",
     "output_type": "stream",
     "text": [
      "Best trial: 48. Best value: -1.31582:  68%|██████▊   | 68/100 [00:49<00:16,  1.99it/s]\u001b[32m2025-08-14 21:19:36.285\u001b[0m | \u001b[1mINFO    \u001b[0m | \u001b[36moutboxml.hyperparameter_tuning\u001b[0m:\u001b[36m_prepare_catboost\u001b[0m:\u001b[36m176\u001b[0m - \u001b[1mNo objective in config||Using from init\u001b[0m\n",
      "Best trial: 77. Best value: -1.31303:  69%|██████▉   | 69/100 [00:49<00:16,  1.93it/s]\u001b[32m2025-08-14 21:19:36.685\u001b[0m | \u001b[1mINFO    \u001b[0m | \u001b[36moutboxml.hyperparameter_tuning\u001b[0m:\u001b[36m_prepare_catboost\u001b[0m:\u001b[36m176\u001b[0m - \u001b[1mNo objective in config||Using from init\u001b[0m\n"
     ]
    },
    {
     "name": "stdout",
     "output_type": "stream",
     "text": [
      "[I 2025-08-14 21:19:36,536] Trial 77 finished with value: -1.3130296750448693 and parameters: {'iterations': 800, 'depth': 3, 'learning_rate': 0.07084937624005416, 'l2_leaf_reg': 0.008884006087752944, 'subsample': 0.633518948549811, 'colsample_bylevel': 0.3083346737817109, 'min_data_in_leaf': 81}. Best is trial 77 with value: -1.3130296750448693.\n"
     ]
    },
    {
     "name": "stderr",
     "output_type": "stream",
     "text": [
      "Best trial: 77. Best value: -1.31303:  70%|███████   | 70/100 [00:51<00:26,  1.13it/s]\u001b[32m2025-08-14 21:19:38.546\u001b[0m | \u001b[1mINFO    \u001b[0m | \u001b[36moutboxml.hyperparameter_tuning\u001b[0m:\u001b[36m_prepare_catboost\u001b[0m:\u001b[36m176\u001b[0m - \u001b[1mNo objective in config||Using from init\u001b[0m\n"
     ]
    },
    {
     "name": "stdout",
     "output_type": "stream",
     "text": [
      "[I 2025-08-14 21:19:38,364] Trial 80 finished with value: -1.5168766517054355 and parameters: {'iterations': 800, 'depth': 5, 'learning_rate': 0.034003346465436006, 'l2_leaf_reg': 0.002075646498198241, 'subsample': 0.6440739488966203, 'colsample_bylevel': 0.2876786815631489, 'min_data_in_leaf': 61}. Best is trial 77 with value: -1.3130296750448693.\n"
     ]
    },
    {
     "name": "stderr",
     "output_type": "stream",
     "text": [
      "Best trial: 77. Best value: -1.31303:  72%|███████▏  | 72/100 [00:51<00:15,  1.85it/s]"
     ]
    },
    {
     "name": "stdout",
     "output_type": "stream",
     "text": [
      "[I 2025-08-14 21:19:38,577] Trial 79 finished with value: -1.4317736325101897 and parameters: {'iterations': 800, 'depth': 5, 'learning_rate': 0.05902512932598314, 'l2_leaf_reg': 0.010077042417426218, 'subsample': 0.7894323201610213, 'colsample_bylevel': 0.9909273619868553, 'min_data_in_leaf': 61}. Best is trial 77 with value: -1.3130296750448693.\n",
      "[I 2025-08-14 21:19:38,754] Trial 78 finished with value: -1.468194311140711 and parameters: {'iterations': 800, 'depth': 5, 'learning_rate': 0.010063049336881028, 'l2_leaf_reg': 0.07234726997571515, 'subsample': 0.6377574359444705, 'colsample_bylevel': 0.9942923120266087, 'min_data_in_leaf': 81}. Best is trial 77 with value: -1.3130296750448693.\n"
     ]
    },
    {
     "name": "stderr",
     "output_type": "stream",
     "text": [
      "\u001b[32m2025-08-14 21:19:38.914\u001b[0m | \u001b[1mINFO    \u001b[0m | \u001b[36moutboxml.hyperparameter_tuning\u001b[0m:\u001b[36m_prepare_catboost\u001b[0m:\u001b[36m176\u001b[0m - \u001b[1mNo objective in config||Using from init\u001b[0m\n",
      "\u001b[32m2025-08-14 21:19:39.054\u001b[0m | \u001b[1mINFO    \u001b[0m | \u001b[36moutboxml.hyperparameter_tuning\u001b[0m:\u001b[36m_prepare_catboost\u001b[0m:\u001b[36m176\u001b[0m - \u001b[1mNo objective in config||Using from init\u001b[0m\n",
      "Best trial: 77. Best value: -1.31303:  73%|███████▎  | 73/100 [00:53<00:21,  1.24it/s]"
     ]
    },
    {
     "name": "stdout",
     "output_type": "stream",
     "text": [
      "[I 2025-08-14 21:19:40,174] Trial 81 finished with value: -1.444395263130942 and parameters: {'iterations': 1100, 'depth': 5, 'learning_rate': 0.030733361057172108, 'l2_leaf_reg': 0.00857096745871078, 'subsample': 0.7743571433379431, 'colsample_bylevel': 0.15665555060300013, 'min_data_in_leaf': 61}. Best is trial 77 with value: -1.3130296750448693.\n"
     ]
    },
    {
     "name": "stderr",
     "output_type": "stream",
     "text": [
      "\u001b[32m2025-08-14 21:19:40.583\u001b[0m | \u001b[1mINFO    \u001b[0m | \u001b[36moutboxml.hyperparameter_tuning\u001b[0m:\u001b[36m_prepare_catboost\u001b[0m:\u001b[36m176\u001b[0m - \u001b[1mNo objective in config||Using from init\u001b[0m\n",
      "Best trial: 77. Best value: -1.31303:  74%|███████▍  | 74/100 [00:53<00:20,  1.29it/s]"
     ]
    },
    {
     "name": "stdout",
     "output_type": "stream",
     "text": [
      "[I 2025-08-14 21:19:40,885] Trial 82 finished with value: -1.3365043364484073 and parameters: {'iterations': 800, 'depth': 3, 'learning_rate': 0.06525301725364188, 'l2_leaf_reg': 0.03962182905325462, 'subsample': 0.49797241710378193, 'colsample_bylevel': 0.7809338455457677, 'min_data_in_leaf': 81}. Best is trial 77 with value: -1.3130296750448693.\n"
     ]
    },
    {
     "name": "stderr",
     "output_type": "stream",
     "text": [
      "\u001b[32m2025-08-14 21:19:41.274\u001b[0m | \u001b[1mINFO    \u001b[0m | \u001b[36moutboxml.hyperparameter_tuning\u001b[0m:\u001b[36m_prepare_catboost\u001b[0m:\u001b[36m176\u001b[0m - \u001b[1mNo objective in config||Using from init\u001b[0m\n",
      "Best trial: 77. Best value: -1.31303:  75%|███████▌  | 75/100 [00:54<00:18,  1.33it/s]"
     ]
    },
    {
     "name": "stdout",
     "output_type": "stream",
     "text": [
      "[I 2025-08-14 21:19:41,574] Trial 83 finished with value: -1.4095419953474877 and parameters: {'iterations': 1000, 'depth': 3, 'learning_rate': 0.07048455384168419, 'l2_leaf_reg': 0.004252712405824521, 'subsample': 0.917450091606054, 'colsample_bylevel': 0.8431827233392978, 'min_data_in_leaf': 81}. Best is trial 77 with value: -1.3130296750448693.\n"
     ]
    },
    {
     "name": "stderr",
     "output_type": "stream",
     "text": [
      "\u001b[32m2025-08-14 21:19:41.914\u001b[0m | \u001b[1mINFO    \u001b[0m | \u001b[36moutboxml.hyperparameter_tuning\u001b[0m:\u001b[36m_prepare_catboost\u001b[0m:\u001b[36m176\u001b[0m - \u001b[1mNo objective in config||Using from init\u001b[0m\n",
      "Best trial: 77. Best value: -1.31303:  76%|███████▌  | 76/100 [00:55<00:17,  1.40it/s]\u001b[32m2025-08-14 21:19:42.412\u001b[0m | \u001b[1mINFO    \u001b[0m | \u001b[36moutboxml.hyperparameter_tuning\u001b[0m:\u001b[36m_prepare_catboost\u001b[0m:\u001b[36m176\u001b[0m - \u001b[1mNo objective in config||Using from init\u001b[0m\n"
     ]
    },
    {
     "name": "stdout",
     "output_type": "stream",
     "text": [
      "[I 2025-08-14 21:19:42,225] Trial 84 finished with value: -1.3956799018722919 and parameters: {'iterations': 500, 'depth': 3, 'learning_rate': 0.09368655684529406, 'l2_leaf_reg': 0.041312783916294823, 'subsample': 0.9211341483272428, 'colsample_bylevel': 0.7892208351940444, 'min_data_in_leaf': 81}. Best is trial 77 with value: -1.3130296750448693.\n"
     ]
    },
    {
     "name": "stderr",
     "output_type": "stream",
     "text": [
      "Best trial: 77. Best value: -1.31303:  79%|███████▉  | 79/100 [00:56<00:09,  2.24it/s]"
     ]
    },
    {
     "name": "stdout",
     "output_type": "stream",
     "text": [
      "[I 2025-08-14 21:19:43,089] Trial 87 finished with value: -1.624740360185677 and parameters: {'iterations': 400, 'depth': 3, 'learning_rate': 0.07840752667231544, 'l2_leaf_reg': 0.01850754307972539, 'subsample': 0.464976121761671, 'colsample_bylevel': 0.11864080912952837, 'min_data_in_leaf': 71}. Best is trial 77 with value: -1.3130296750448693.\n",
      "[I 2025-08-14 21:19:43,171] Trial 86 finished with value: -1.3308086786426874 and parameters: {'iterations': 500, 'depth': 3, 'learning_rate': 0.08975082611223668, 'l2_leaf_reg': 0.030506848262385738, 'subsample': 0.49313765134251614, 'colsample_bylevel': 0.7949508582260879, 'min_data_in_leaf': 71}. Best is trial 77 with value: -1.3130296750448693.\n",
      "[I 2025-08-14 21:19:43,236] Trial 85 finished with value: -1.3790763454900048 and parameters: {'iterations': 1000, 'depth': 3, 'learning_rate': 0.07835832989624299, 'l2_leaf_reg': 0.041708851072194825, 'subsample': 0.5325673185072163, 'colsample_bylevel': 0.7926754214814791, 'min_data_in_leaf': 71}. Best is trial 77 with value: -1.3130296750448693.\n"
     ]
    },
    {
     "name": "stderr",
     "output_type": "stream",
     "text": [
      "\u001b[32m2025-08-14 21:19:43.395\u001b[0m | \u001b[1mINFO    \u001b[0m | \u001b[36moutboxml.hyperparameter_tuning\u001b[0m:\u001b[36m_prepare_catboost\u001b[0m:\u001b[36m176\u001b[0m - \u001b[1mNo objective in config||Using from init\u001b[0m\n",
      "\u001b[32m2025-08-14 21:19:43.534\u001b[0m | \u001b[1mINFO    \u001b[0m | \u001b[36moutboxml.hyperparameter_tuning\u001b[0m:\u001b[36m_prepare_catboost\u001b[0m:\u001b[36m176\u001b[0m - \u001b[1mNo objective in config||Using from init\u001b[0m\n",
      "\u001b[32m2025-08-14 21:19:43.631\u001b[0m | \u001b[1mINFO    \u001b[0m | \u001b[36moutboxml.hyperparameter_tuning\u001b[0m:\u001b[36m_prepare_catboost\u001b[0m:\u001b[36m176\u001b[0m - \u001b[1mNo objective in config||Using from init\u001b[0m\n",
      "Best trial: 77. Best value: -1.31303:  80%|████████  | 80/100 [00:57<00:12,  1.64it/s]\u001b[32m2025-08-14 21:19:44.492\u001b[0m | \u001b[1mINFO    \u001b[0m | \u001b[36moutboxml.hyperparameter_tuning\u001b[0m:\u001b[36m_prepare_catboost\u001b[0m:\u001b[36m176\u001b[0m - \u001b[1mNo objective in config||Using from init\u001b[0m\n"
     ]
    },
    {
     "name": "stdout",
     "output_type": "stream",
     "text": [
      "[I 2025-08-14 21:19:44,360] Trial 90 finished with value: -1.5029452799307783 and parameters: {'iterations': 500, 'depth': 1, 'learning_rate': 0.09756609030549573, 'l2_leaf_reg': 0.024023512462514954, 'subsample': 0.5002351314288155, 'colsample_bylevel': 0.7362662670856195, 'min_data_in_leaf': 101}. Best is trial 77 with value: -1.3130296750448693.\n"
     ]
    },
    {
     "name": "stderr",
     "output_type": "stream",
     "text": [
      "Best trial: 88. Best value: -1.27956:  81%|████████  | 81/100 [00:58<00:13,  1.43it/s]"
     ]
    },
    {
     "name": "stdout",
     "output_type": "stream",
     "text": [
      "[I 2025-08-14 21:19:45,300] Trial 88 finished with value: -1.2795605705889557 and parameters: {'iterations': 900, 'depth': 3, 'learning_rate': 0.040776603017814064, 'l2_leaf_reg': 0.031758493892806675, 'subsample': 0.5120717813674266, 'colsample_bylevel': 0.8001378482192673, 'min_data_in_leaf': 71}. Best is trial 88 with value: -1.2795605705889557.\n"
     ]
    },
    {
     "name": "stderr",
     "output_type": "stream",
     "text": [
      "\u001b[32m2025-08-14 21:19:45.690\u001b[0m | \u001b[1mINFO    \u001b[0m | \u001b[36moutboxml.hyperparameter_tuning\u001b[0m:\u001b[36m_prepare_catboost\u001b[0m:\u001b[36m176\u001b[0m - \u001b[1mNo objective in config||Using from init\u001b[0m\n",
      "Best trial: 88. Best value: -1.27956:  82%|████████▏ | 82/100 [00:58<00:11,  1.57it/s]\u001b[32m2025-08-14 21:19:45.923\u001b[0m | \u001b[1mINFO    \u001b[0m | \u001b[36moutboxml.hyperparameter_tuning\u001b[0m:\u001b[36m_prepare_catboost\u001b[0m:\u001b[36m176\u001b[0m - \u001b[1mNo objective in config||Using from init\u001b[0m\n"
     ]
    },
    {
     "name": "stdout",
     "output_type": "stream",
     "text": [
      "[I 2025-08-14 21:19:45,774] Trial 91 finished with value: -1.45836387478139 and parameters: {'iterations': 600, 'depth': 3, 'learning_rate': 0.0907845529816774, 'l2_leaf_reg': 0.00383705109923909, 'subsample': 0.4318927897549377, 'colsample_bylevel': 0.38837632535164013, 'min_data_in_leaf': 81}. Best is trial 88 with value: -1.2795605705889557.\n"
     ]
    },
    {
     "name": "stderr",
     "output_type": "stream",
     "text": [
      "Best trial: 88. Best value: -1.27956:  83%|████████▎ | 83/100 [01:00<00:15,  1.10it/s]\u001b[32m2025-08-14 21:19:47.544\u001b[0m | \u001b[1mINFO    \u001b[0m | \u001b[36moutboxml.hyperparameter_tuning\u001b[0m:\u001b[36m_prepare_catboost\u001b[0m:\u001b[36m176\u001b[0m - \u001b[1mNo objective in config||Using from init\u001b[0m\n"
     ]
    },
    {
     "name": "stdout",
     "output_type": "stream",
     "text": [
      "[I 2025-08-14 21:19:47,383] Trial 92 finished with value: -1.4726986005167388 and parameters: {'iterations': 900, 'depth': 3, 'learning_rate': 0.08950366823565938, 'l2_leaf_reg': 0.0049847840603331785, 'subsample': 0.5548068236290685, 'colsample_bylevel': 0.7730831365999214, 'min_data_in_leaf': 71}. Best is trial 88 with value: -1.2795605705889557.\n"
     ]
    },
    {
     "name": "stderr",
     "output_type": "stream",
     "text": [
      "Best trial: 88. Best value: -1.27956:  84%|████████▍ | 84/100 [01:00<00:11,  1.36it/s]\u001b[32m2025-08-14 21:19:47.805\u001b[0m | \u001b[1mINFO    \u001b[0m | \u001b[36moutboxml.hyperparameter_tuning\u001b[0m:\u001b[36m_prepare_catboost\u001b[0m:\u001b[36m176\u001b[0m - \u001b[1mNo objective in config||Using from init\u001b[0m\n"
     ]
    },
    {
     "name": "stdout",
     "output_type": "stream",
     "text": [
      "[I 2025-08-14 21:19:47,682] Trial 93 finished with value: -1.427821702115188 and parameters: {'iterations': 900, 'depth': 3, 'learning_rate': 0.08474103408086214, 'l2_leaf_reg': 0.014573415654569795, 'subsample': 0.49724624353772595, 'colsample_bylevel': 0.7669252842292203, 'min_data_in_leaf': 71}. Best is trial 88 with value: -1.2795605705889557.\n"
     ]
    },
    {
     "name": "stderr",
     "output_type": "stream",
     "text": [
      "Best trial: 88. Best value: -1.27956:  85%|████████▌ | 85/100 [01:02<00:14,  1.04it/s]\u001b[32m2025-08-14 21:19:49.350\u001b[0m | \u001b[1mINFO    \u001b[0m | \u001b[36moutboxml.hyperparameter_tuning\u001b[0m:\u001b[36m_prepare_catboost\u001b[0m:\u001b[36m176\u001b[0m - \u001b[1mNo objective in config||Using from init\u001b[0m\n"
     ]
    },
    {
     "name": "stdout",
     "output_type": "stream",
     "text": [
      "[I 2025-08-14 21:19:49,209] Trial 94 finished with value: -1.360376185240387 and parameters: {'iterations': 800, 'depth': 3, 'learning_rate': 0.08527389578767887, 'l2_leaf_reg': 0.014329765117124887, 'subsample': 0.49978927942599133, 'colsample_bylevel': 0.7236534551429948, 'min_data_in_leaf': 71}. Best is trial 88 with value: -1.2795605705889557.\n"
     ]
    },
    {
     "name": "stderr",
     "output_type": "stream",
     "text": [
      "Best trial: 88. Best value: -1.27956:  86%|████████▌ | 86/100 [01:02<00:10,  1.32it/s]"
     ]
    },
    {
     "name": "stdout",
     "output_type": "stream",
     "text": [
      "[I 2025-08-14 21:19:49,407] Trial 95 finished with value: -1.3508647597320576 and parameters: {'iterations': 800, 'depth': 3, 'learning_rate': 0.04008232127429172, 'l2_leaf_reg': 0.007245234989242246, 'subsample': 0.6044660729990068, 'colsample_bylevel': 0.464978121156243, 'min_data_in_leaf': 81}. Best is trial 88 with value: -1.2795605705889557.\n"
     ]
    },
    {
     "name": "stderr",
     "output_type": "stream",
     "text": [
      "\u001b[32m2025-08-14 21:19:49.777\u001b[0m | \u001b[1mINFO    \u001b[0m | \u001b[36moutboxml.hyperparameter_tuning\u001b[0m:\u001b[36m_prepare_catboost\u001b[0m:\u001b[36m176\u001b[0m - \u001b[1mNo objective in config||Using from init\u001b[0m\n",
      "Best trial: 88. Best value: -1.27956:  87%|████████▋ | 87/100 [01:03<00:12,  1.07it/s]\u001b[32m2025-08-14 21:19:50.963\u001b[0m | \u001b[1mINFO    \u001b[0m | \u001b[36moutboxml.hyperparameter_tuning\u001b[0m:\u001b[36m_prepare_catboost\u001b[0m:\u001b[36m176\u001b[0m - \u001b[1mNo objective in config||Using from init\u001b[0m\n"
     ]
    },
    {
     "name": "stdout",
     "output_type": "stream",
     "text": [
      "[I 2025-08-14 21:19:50,817] Trial 97 finished with value: -1.5711509847628535 and parameters: {'iterations': 500, 'depth': 5, 'learning_rate': 0.07392506964807907, 'l2_leaf_reg': 0.04028502086814926, 'subsample': 0.4232208105479632, 'colsample_bylevel': 0.8365995613923822, 'min_data_in_leaf': 61}. Best is trial 88 with value: -1.2795605705889557.\n"
     ]
    },
    {
     "name": "stderr",
     "output_type": "stream",
     "text": [
      "Best trial: 88. Best value: -1.27956:  88%|████████▊ | 88/100 [01:04<00:11,  1.08it/s]\u001b[32m2025-08-14 21:19:51.870\u001b[0m | \u001b[1mINFO    \u001b[0m | \u001b[36moutboxml.hyperparameter_tuning\u001b[0m:\u001b[36m_prepare_catboost\u001b[0m:\u001b[36m176\u001b[0m - \u001b[1mNo objective in config||Using from init\u001b[0m\n"
     ]
    },
    {
     "name": "stdout",
     "output_type": "stream",
     "text": [
      "[I 2025-08-14 21:19:51,718] Trial 98 finished with value: -1.493962777059789 and parameters: {'iterations': 700, 'depth': 1, 'learning_rate': 0.05267817912278579, 'l2_leaf_reg': 0.022990842147572143, 'subsample': 0.3677865589572501, 'colsample_bylevel': 0.8086921742024274, 'min_data_in_leaf': 91}. Best is trial 88 with value: -1.2795605705889557.\n"
     ]
    },
    {
     "name": "stderr",
     "output_type": "stream",
     "text": [
      "Best trial: 88. Best value: -1.27956:  89%|████████▉ | 89/100 [01:07<00:15,  1.39s/it]"
     ]
    },
    {
     "name": "stdout",
     "output_type": "stream",
     "text": [
      "[I 2025-08-14 21:19:54,180] Trial 21 finished with value: -1.9132475753712994 and parameters: {'iterations': 1200, 'depth': 13, 'learning_rate': 0.02841822676545023, 'l2_leaf_reg': 18.070089388214985, 'subsample': 0.8163309320923022, 'colsample_bylevel': 0.7474439364678257, 'min_data_in_leaf': 51}. Best is trial 88 with value: -1.2795605705889557.\n"
     ]
    },
    {
     "name": "stderr",
     "output_type": "stream",
     "text": [
      "Best trial: 88. Best value: -1.27956:  90%|█████████ | 90/100 [01:25<01:05,  6.51s/it]"
     ]
    },
    {
     "name": "stdout",
     "output_type": "stream",
     "text": [
      "[I 2025-08-14 21:20:12,782] Trial 89 finished with value: -2.1970721704937244 and parameters: {'iterations': 500, 'depth': 13, 'learning_rate': 0.07409998890202403, 'l2_leaf_reg': 0.02836460453149236, 'subsample': 0.43868295698375837, 'colsample_bylevel': 0.7410762355413759, 'min_data_in_leaf': 101}. Best is trial 88 with value: -1.2795605705889557.\n"
     ]
    },
    {
     "name": "stderr",
     "output_type": "stream",
     "text": [
      "Best trial: 88. Best value: -1.27956:  91%|█████████ | 91/100 [01:29<00:50,  5.66s/it]"
     ]
    },
    {
     "name": "stdout",
     "output_type": "stream",
     "text": [
      "[I 2025-08-14 21:20:16,457] Trial 96 finished with value: -1.86551679822975 and parameters: {'iterations': 500, 'depth': 13, 'learning_rate': 0.040015644000065374, 'l2_leaf_reg': 0.3848005924083811, 'subsample': 0.6107223573701333, 'colsample_bylevel': 0.8050930491869962, 'min_data_in_leaf': 91}. Best is trial 88 with value: -1.2795605705889557.\n"
     ]
    },
    {
     "name": "stderr",
     "output_type": "stream",
     "text": [
      "Best trial: 88. Best value: -1.27956:  92%|█████████▏| 92/100 [01:30<00:34,  4.35s/it]"
     ]
    },
    {
     "name": "stdout",
     "output_type": "stream",
     "text": [
      "[I 2025-08-14 21:20:17,734] Trial 24 finished with value: -1.8977448214696333 and parameters: {'iterations': 1200, 'depth': 13, 'learning_rate': 0.034663499595082366, 'l2_leaf_reg': 1.62415250692306e-05, 'subsample': 0.701253442750984, 'colsample_bylevel': 0.928051414684869, 'min_data_in_leaf': 61}. Best is trial 88 with value: -1.2795605705889557.\n"
     ]
    },
    {
     "name": "stderr",
     "output_type": "stream",
     "text": [
      "Best trial: 88. Best value: -1.27956:  93%|█████████▎| 93/100 [01:32<00:24,  3.49s/it]"
     ]
    },
    {
     "name": "stdout",
     "output_type": "stream",
     "text": [
      "[I 2025-08-14 21:20:19,224] Trial 45 finished with value: -2.056701007792466 and parameters: {'iterations': 400, 'depth': 15, 'learning_rate': 0.04635698911572058, 'l2_leaf_reg': 0.018623669946225305, 'subsample': 0.6603001880768219, 'colsample_bylevel': 0.9002084501818846, 'min_data_in_leaf': 71}. Best is trial 88 with value: -1.2795605705889557.\n"
     ]
    },
    {
     "name": "stderr",
     "output_type": "stream",
     "text": [
      "Best trial: 88. Best value: -1.27956:  94%|█████████▍| 94/100 [01:33<00:16,  2.81s/it]"
     ]
    },
    {
     "name": "stdout",
     "output_type": "stream",
     "text": [
      "[I 2025-08-14 21:20:20,450] Trial 47 finished with value: -1.7055745893403873 and parameters: {'iterations': 400, 'depth': 15, 'learning_rate': 0.0462535566889332, 'l2_leaf_reg': 0.01788389907612901, 'subsample': 0.7803894802004099, 'colsample_bylevel': 0.9221941503637607, 'min_data_in_leaf': 71}. Best is trial 88 with value: -1.2795605705889557.\n"
     ]
    },
    {
     "name": "stderr",
     "output_type": "stream",
     "text": [
      "Best trial: 88. Best value: -1.27956:  95%|█████████▌| 95/100 [01:38<00:17,  3.59s/it]"
     ]
    },
    {
     "name": "stdout",
     "output_type": "stream",
     "text": [
      "[I 2025-08-14 21:20:25,838] Trial 99 finished with value: -1.969787041770485 and parameters: {'iterations': 600, 'depth': 13, 'learning_rate': 0.06510064773374448, 'l2_leaf_reg': 0.3702553873171603, 'subsample': 0.5799028362875845, 'colsample_bylevel': 0.860525150517306, 'min_data_in_leaf': 81}. Best is trial 88 with value: -1.2795605705889557.\n"
     ]
    },
    {
     "name": "stderr",
     "output_type": "stream",
     "text": [
      "Best trial: 88. Best value: -1.27956:  96%|█████████▌| 96/100 [01:53<00:27,  6.81s/it]"
     ]
    },
    {
     "name": "stdout",
     "output_type": "stream",
     "text": [
      "[I 2025-08-14 21:20:40,170] Trial 29 finished with value: -2.0777461956963093 and parameters: {'iterations': 600, 'depth': 15, 'learning_rate': 0.050890768586732235, 'l2_leaf_reg': 1.0481173555478228e-05, 'subsample': 0.9878863390898506, 'colsample_bylevel': 0.8652253331596294, 'min_data_in_leaf': 71}. Best is trial 88 with value: -1.2795605705889557.\n"
     ]
    },
    {
     "name": "stderr",
     "output_type": "stream",
     "text": [
      "Best trial: 88. Best value: -1.27956:  97%|█████████▋| 97/100 [02:32<00:49, 16.65s/it]"
     ]
    },
    {
     "name": "stdout",
     "output_type": "stream",
     "text": [
      "[I 2025-08-14 21:21:19,802] Trial 4 finished with value: -2.1467823528608476 and parameters: {'iterations': 900, 'depth': 15, 'learning_rate': 0.0701477277038312, 'l2_leaf_reg': 9.650392731880572e-05, 'subsample': 0.3750663041226928, 'colsample_bylevel': 0.9305357263878796, 'min_data_in_leaf': 101}. Best is trial 88 with value: -1.2795605705889557.\n"
     ]
    },
    {
     "name": "stderr",
     "output_type": "stream",
     "text": [
      "Best trial: 88. Best value: -1.27956:  98%|█████████▊| 98/100 [02:39<00:27, 13.63s/it]"
     ]
    },
    {
     "name": "stdout",
     "output_type": "stream",
     "text": [
      "[I 2025-08-14 21:21:26,372] Trial 23 finished with value: -1.7764472457327531 and parameters: {'iterations': 1200, 'depth': 15, 'learning_rate': 0.03237019967841714, 'l2_leaf_reg': 45.61877678708581, 'subsample': 0.7722917293585363, 'colsample_bylevel': 0.9561689186614907, 'min_data_in_leaf': 61}. Best is trial 88 with value: -1.2795605705889557.\n"
     ]
    },
    {
     "name": "stderr",
     "output_type": "stream",
     "text": [
      "Best trial: 88. Best value: -1.27956:  99%|█████████▉| 99/100 [02:45<00:11, 11.27s/it]"
     ]
    },
    {
     "name": "stdout",
     "output_type": "stream",
     "text": [
      "[I 2025-08-14 21:21:32,147] Trial 25 finished with value: -1.6837920107872846 and parameters: {'iterations': 1100, 'depth': 15, 'learning_rate': 0.0334857847088772, 'l2_leaf_reg': 0.0007599204945568356, 'subsample': 0.660797724185698, 'colsample_bylevel': 0.9618794491476512, 'min_data_in_leaf': 61}. Best is trial 88 with value: -1.2795605705889557.\n"
     ]
    },
    {
     "name": "stderr",
     "output_type": "stream",
     "text": [
      "Best trial: 88. Best value: -1.27956: 100%|██████████| 100/100 [02:50<00:00,  1.70s/it]\n",
      "\u001b[32m2025-08-14 21:21:37.448\u001b[0m | \u001b[1mINFO    \u001b[0m | \u001b[36moutboxml.automl_manager\u001b[0m:\u001b[36mhp_tuning\u001b[0m:\u001b[36m335\u001b[0m - \u001b[1m{'iterations': 900, 'depth': 3, 'learning_rate': 0.040776603017814064, 'l2_leaf_reg': 0.031758493892806675, 'subsample': 0.5120717813674266, 'colsample_bylevel': 0.8001378482192673, 'min_data_in_leaf': 71}\u001b[0m\n",
      "\u001b[32m2025-08-14 21:21:37.459\u001b[0m | \u001b[1mINFO    \u001b[0m | \u001b[36moutboxml.automl_manager\u001b[0m:\u001b[36m__update_hyperparameters\u001b[0m:\u001b[36m571\u001b[0m - \u001b[1mNew parameters are setting\u001b[0m\n",
      "\u001b[32m2025-08-14 21:21:37.459\u001b[0m | \u001b[34m\u001b[1mDEBUG   \u001b[0m | \u001b[36moutboxml.datasets_manager\u001b[0m:\u001b[36mfit_models\u001b[0m:\u001b[36m353\u001b[0m - \u001b[34m\u001b[1mFitting model started\u001b[0m\n",
      "\u001b[32m2025-08-14 21:21:37.460\u001b[0m | \u001b[1mINFO    \u001b[0m | \u001b[36moutboxml.datasets_manager\u001b[0m:\u001b[36mfit_models\u001b[0m:\u001b[36m361\u001b[0m - \u001b[1mSetting default models\u001b[0m\n",
      "\u001b[32m2025-08-14 21:21:37.460\u001b[0m | \u001b[1mINFO    \u001b[0m | \u001b[36moutboxml.data_subsets\u001b[0m:\u001b[36m_check_prepared_subset\u001b[0m:\u001b[36m243\u001b[0m - \u001b[1mFile /home/jovyan/work/results/heating_v1_subset.pickle already exists.\u001b[0m\n",
      "\u001b[32m2025-08-14 21:21:37.461\u001b[0m | \u001b[1mINFO    \u001b[0m | \u001b[36moutboxml.data_subsets\u001b[0m:\u001b[36mload_subsets_from_pickle\u001b[0m:\u001b[36m288\u001b[0m - \u001b[1mheating||Loading subset from pickle\u001b[0m\n",
      "\u001b[32m2025-08-14 21:21:37.464\u001b[0m | \u001b[1mINFO    \u001b[0m | \u001b[36moutboxml.models\u001b[0m:\u001b[36mfit\u001b[0m:\u001b[36m325\u001b[0m - \u001b[1mFitting model heating||catboost\u001b[0m\n",
      "\u001b[32m2025-08-14 21:21:37.464\u001b[0m | \u001b[1mINFO    \u001b[0m | \u001b[36moutboxml.models\u001b[0m:\u001b[36m__init__\u001b[0m:\u001b[36m464\u001b[0m - \u001b[1mModel objective||None\u001b[0m\n",
      "\u001b[32m2025-08-14 21:21:37.465\u001b[0m | \u001b[1mINFO    \u001b[0m | \u001b[36moutboxml.models\u001b[0m:\u001b[36mfit\u001b[0m:\u001b[36m511\u001b[0m - \u001b[1mCatboost Regressor||RMSE by default\u001b[0m\n",
      "\u001b[32m2025-08-14 21:21:37.466\u001b[0m | \u001b[33m\u001b[1mWARNING \u001b[0m | \u001b[36moutboxml.models\u001b[0m:\u001b[36mfit\u001b[0m:\u001b[36m515\u001b[0m - \u001b[33m\u001b[1mError with y_train/exposure||Exposure = 1 is set\u001b[0m\n",
      "\u001b[32m2025-08-14 21:21:37.638\u001b[0m | \u001b[1mINFO    \u001b[0m | \u001b[36moutboxml.models\u001b[0m:\u001b[36m__load_default_models\u001b[0m:\u001b[36m80\u001b[0m - \u001b[1mModels in accordance with config||Wrapper models are setting\u001b[0m\n",
      "\u001b[32m2025-08-14 21:21:37.639\u001b[0m | \u001b[1mINFO    \u001b[0m | \u001b[36moutboxml.datasets_manager\u001b[0m:\u001b[36m__get_fitted_models\u001b[0m:\u001b[36m536\u001b[0m - \u001b[1mFitting\u001b[0m\n",
      "\u001b[32m2025-08-14 21:21:37.639\u001b[0m | \u001b[34m\u001b[1mDEBUG   \u001b[0m | \u001b[36moutboxml.datasets_manager\u001b[0m:\u001b[36mget_subset\u001b[0m:\u001b[36m339\u001b[0m - \u001b[34m\u001b[1mModel heating || Subset export\u001b[0m\n",
      "\u001b[32m2025-08-14 21:21:37.640\u001b[0m | \u001b[1mINFO    \u001b[0m | \u001b[36moutboxml.data_subsets\u001b[0m:\u001b[36m_check_prepared_subset\u001b[0m:\u001b[36m243\u001b[0m - \u001b[1mFile /home/jovyan/work/results/heating_v1_subset.pickle already exists.\u001b[0m\n",
      "\u001b[32m2025-08-14 21:21:37.641\u001b[0m | \u001b[1mINFO    \u001b[0m | \u001b[36moutboxml.data_subsets\u001b[0m:\u001b[36mload_subsets_from_pickle\u001b[0m:\u001b[36m288\u001b[0m - \u001b[1mheating||Loading subset from pickle\u001b[0m\n"
     ]
    },
    {
     "name": "stdout",
     "output_type": "stream",
     "text": [
      "[I 2025-08-14 21:21:37,443] Trial 22 finished with value: -1.8207856654144596 and parameters: {'iterations': 1200, 'depth': 15, 'learning_rate': 0.030486985497344053, 'l2_leaf_reg': 2.7741306569286325e-05, 'subsample': 0.7268342685135882, 'colsample_bylevel': 0.971568345581352, 'min_data_in_leaf': 71}. Best is trial 88 with value: -1.2795605705889557.\n"
     ]
    },
    {
     "name": "stderr",
     "output_type": "stream",
     "text": [
      "\u001b[32m2025-08-14 21:21:37.646\u001b[0m | \u001b[34m\u001b[1mDEBUG   \u001b[0m | \u001b[36moutboxml.metrics.processor\u001b[0m:\u001b[36mresult_dict\u001b[0m:\u001b[36m30\u001b[0m - \u001b[34m\u001b[1mModel metrics regression||heating\u001b[0m\n",
      "\u001b[32m2025-08-14 21:21:37.647\u001b[0m | \u001b[1mINFO    \u001b[0m | \u001b[36moutboxml.metrics.processor\u001b[0m:\u001b[36mresult_dict\u001b[0m:\u001b[36m36\u001b[0m - \u001b[1mTrain metrics for slices\u001b[0m\n",
      "\u001b[32m2025-08-14 21:21:37.647\u001b[0m | \u001b[1mINFO    \u001b[0m | \u001b[36moutboxml.metrics.processor\u001b[0m:\u001b[36m_metric_loop\u001b[0m:\u001b[36m68\u001b[0m - \u001b[1mModel metrics||Collecting slices\u001b[0m\n",
      "\u001b[32m2025-08-14 21:21:37.648\u001b[0m | \u001b[1mINFO    \u001b[0m | \u001b[36moutboxml.metrics.processor\u001b[0m:\u001b[36m_metric_loop\u001b[0m:\u001b[36m69\u001b[0m - \u001b[1mMetrics for slice Surface Area\u001b[0m\n",
      "\u001b[32m2025-08-14 21:21:37.649\u001b[0m | \u001b[31m\u001b[1mERROR   \u001b[0m | \u001b[36moutboxml.metrics.processor\u001b[0m:\u001b[36m_metric_loop\u001b[0m:\u001b[36m71\u001b[0m - \u001b[31m\u001b[1mNo target slice column in X\u001b[0m\n",
      "\u001b[32m2025-08-14 21:21:37.649\u001b[0m | \u001b[1mINFO    \u001b[0m | \u001b[36moutboxml.metrics.processor\u001b[0m:\u001b[36mresult_dict\u001b[0m:\u001b[36m39\u001b[0m - \u001b[1mTest metrics for slices\u001b[0m\n",
      "\u001b[32m2025-08-14 21:21:37.650\u001b[0m | \u001b[1mINFO    \u001b[0m | \u001b[36moutboxml.metrics.processor\u001b[0m:\u001b[36m_metric_loop\u001b[0m:\u001b[36m68\u001b[0m - \u001b[1mModel metrics||Collecting slices\u001b[0m\n",
      "\u001b[32m2025-08-14 21:21:37.651\u001b[0m | \u001b[1mINFO    \u001b[0m | \u001b[36moutboxml.metrics.processor\u001b[0m:\u001b[36m_metric_loop\u001b[0m:\u001b[36m69\u001b[0m - \u001b[1mMetrics for slice Surface Area\u001b[0m\n",
      "\u001b[32m2025-08-14 21:21:37.651\u001b[0m | \u001b[31m\u001b[1mERROR   \u001b[0m | \u001b[36moutboxml.metrics.processor\u001b[0m:\u001b[36m_metric_loop\u001b[0m:\u001b[36m71\u001b[0m - \u001b[31m\u001b[1mNo target slice column in X\u001b[0m\n",
      "\u001b[32m2025-08-14 21:21:37.652\u001b[0m | \u001b[1mINFO    \u001b[0m | \u001b[36moutboxml.metrics.processor\u001b[0m:\u001b[36mresult_dict\u001b[0m:\u001b[36m43\u001b[0m - \u001b[1mModel metrics||Full train metrics\u001b[0m\n",
      "\u001b[32m2025-08-14 21:21:37.653\u001b[0m | \u001b[34m\u001b[1mDEBUG   \u001b[0m | \u001b[36moutboxml.metrics.processor\u001b[0m:\u001b[36mcalculate_metrics\u001b[0m:\u001b[36m57\u001b[0m - \u001b[34m\u001b[1mCalculating metrics\u001b[0m\n",
      "\u001b[32m2025-08-14 21:21:37.655\u001b[0m | \u001b[1mINFO    \u001b[0m | \u001b[36moutboxml.metrics.processor\u001b[0m:\u001b[36mcalculate_metrics\u001b[0m:\u001b[36m60\u001b[0m - \u001b[1m{'mae': 0.3055, 'rmse': 0.4258, 'r2': 0.9982}\u001b[0m\n",
      "\u001b[32m2025-08-14 21:21:37.656\u001b[0m | \u001b[1mINFO    \u001b[0m | \u001b[36moutboxml.metrics.processor\u001b[0m:\u001b[36mresult_dict\u001b[0m:\u001b[36m47\u001b[0m - \u001b[1mModel metrics||Full test metrics\u001b[0m\n",
      "\u001b[32m2025-08-14 21:21:37.657\u001b[0m | \u001b[34m\u001b[1mDEBUG   \u001b[0m | \u001b[36moutboxml.metrics.processor\u001b[0m:\u001b[36mcalculate_metrics\u001b[0m:\u001b[36m57\u001b[0m - \u001b[34m\u001b[1mCalculating metrics\u001b[0m\n",
      "\u001b[32m2025-08-14 21:21:37.659\u001b[0m | \u001b[1mINFO    \u001b[0m | \u001b[36moutboxml.metrics.processor\u001b[0m:\u001b[36mcalculate_metrics\u001b[0m:\u001b[36m60\u001b[0m - \u001b[1m{'mae': 0.4384, 'rmse': 0.7499, 'r2': 0.9945}\u001b[0m\n",
      "\u001b[32m2025-08-14 21:21:37.660\u001b[0m | \u001b[1mINFO    \u001b[0m | \u001b[36moutboxml.metrics.processor\u001b[0m:\u001b[36mresult_dict\u001b[0m:\u001b[36m52\u001b[0m - \u001b[1m{'train': {'full': {'mae': 0.3055, 'rmse': 0.4258, 'r2': 0.9982}}, 'test': {'full': {'mae': 0.4384, 'rmse': 0.7499, 'r2': 0.9945}}}\u001b[0m\n",
      "\u001b[32m2025-08-14 21:21:37.661\u001b[0m | \u001b[34m\u001b[1mDEBUG   \u001b[0m | \u001b[36moutboxml.datasets_manager\u001b[0m:\u001b[36m_calculate_business_metric\u001b[0m:\u001b[36m578\u001b[0m - \u001b[34m\u001b[1mCalculating metrics finished\u001b[0m\n",
      "\u001b[32m2025-08-14 21:21:37.665\u001b[0m | \u001b[34m\u001b[1mDEBUG   \u001b[0m | \u001b[36moutboxml.automl_manager\u001b[0m:\u001b[36msave_results\u001b[0m:\u001b[36m350\u001b[0m - \u001b[34m\u001b[1mSaving pickle for service\u001b[0m\n",
      "\u001b[32m2025-08-14 21:21:37.666\u001b[0m | \u001b[34m\u001b[1mDEBUG   \u001b[0m | \u001b[36moutboxml.datasets_manager\u001b[0m:\u001b[36m_init_dsmanager\u001b[0m:\u001b[36m655\u001b[0m - \u001b[34m\u001b[1mInitializing DSManager\u001b[0m\n",
      "\u001b[32m2025-08-14 21:21:37.667\u001b[0m | \u001b[1mINFO    \u001b[0m | \u001b[36moutboxml.datasets_manager\u001b[0m:\u001b[36m__load_all_models_config\u001b[0m:\u001b[36m588\u001b[0m - \u001b[1mAll models config from path\u001b[0m\n",
      "\u001b[32m2025-08-14 21:21:37.669\u001b[0m | \u001b[1mINFO    \u001b[0m | \u001b[36moutboxml.datasets_manager\u001b[0m:\u001b[36m__load_all_models_config\u001b[0m:\u001b[36m606\u001b[0m - \u001b[1mConfig is loaded\u001b[0m\n",
      "\u001b[32m2025-08-14 21:21:37.670\u001b[0m | \u001b[1mINFO    \u001b[0m | \u001b[36moutboxml.datasets_manager\u001b[0m:\u001b[36m__load_prepare_datasets\u001b[0m:\u001b[36m625\u001b[0m - \u001b[1mLoad models prepare datasets\u001b[0m\n",
      "\u001b[32m2025-08-14 21:21:37.670\u001b[0m | \u001b[34m\u001b[1mDEBUG   \u001b[0m | \u001b[36moutboxml.datasets_manager\u001b[0m:\u001b[36m_init_dsmanager\u001b[0m:\u001b[36m661\u001b[0m - \u001b[34m\u001b[1mInitializing completed\u001b[0m\n",
      "\u001b[32m2025-08-14 21:21:37.671\u001b[0m | \u001b[34m\u001b[1mDEBUG   \u001b[0m | \u001b[36moutboxml.datasets_manager\u001b[0m:\u001b[36mload_dataset\u001b[0m:\u001b[36m289\u001b[0m - \u001b[34m\u001b[1mDataset loading\u001b[0m\n",
      "\u001b[32m2025-08-14 21:21:37.672\u001b[0m | \u001b[34m\u001b[1mDEBUG   \u001b[0m | \u001b[36moutboxml.datasets_manager\u001b[0m:\u001b[36mload_dataset\u001b[0m:\u001b[36m302\u001b[0m - \u001b[34m\u001b[1mDataSet is extracted\u001b[0m\n",
      "\u001b[32m2025-08-14 21:21:37.672\u001b[0m | \u001b[34m\u001b[1mDEBUG   \u001b[0m | \u001b[36moutboxml.export_results\u001b[0m:\u001b[36msave\u001b[0m:\u001b[36m128\u001b[0m - \u001b[34m\u001b[1mSaving started\u001b[0m\n",
      "\u001b[32m2025-08-14 21:21:37.673\u001b[0m | \u001b[1mINFO    \u001b[0m | \u001b[36moutboxml.export_results\u001b[0m:\u001b[36msave\u001b[0m:\u001b[36m140\u001b[0m - \u001b[1mResults for model heating\u001b[0m\n",
      "\u001b[32m2025-08-14 21:21:37.675\u001b[0m | \u001b[1mINFO    \u001b[0m | \u001b[36moutboxml.export_results\u001b[0m:\u001b[36mmetrics_df\u001b[0m:\u001b[36m315\u001b[0m - \u001b[1mPreparing metrics for heating\u001b[0m\n",
      "\u001b[32m2025-08-14 21:21:37.677\u001b[0m | \u001b[1mINFO    \u001b[0m | \u001b[36moutboxml.export_results\u001b[0m:\u001b[36mmetrics_df\u001b[0m:\u001b[36m315\u001b[0m - \u001b[1mPreparing metrics for heating\u001b[0m\n",
      "\u001b[32m2025-08-14 21:21:37.679\u001b[0m | \u001b[34m\u001b[1mDEBUG   \u001b[0m | \u001b[36moutboxml.core.utils\u001b[0m:\u001b[36msave_results\u001b[0m:\u001b[36m184\u001b[0m - \u001b[34m\u001b[1mSaving started to/home/jovyan/work/results\u001b[0m\n",
      "\u001b[32m2025-08-14 21:21:37.679\u001b[0m | \u001b[1mINFO    \u001b[0m | \u001b[36moutboxml.core.utils\u001b[0m:\u001b[36msave_results\u001b[0m:\u001b[36m189\u001b[0m - \u001b[1mSaving||Configs\u001b[0m\n",
      "\u001b[32m2025-08-14 21:21:37.681\u001b[0m | \u001b[33m\u001b[1mWARNING \u001b[0m | \u001b[36moutboxml.core.utils\u001b[0m:\u001b[36msave_results\u001b[0m:\u001b[36m197\u001b[0m - \u001b[33m\u001b[1mCannot write WoE encoding to json||Use model json from  pickle result\u001b[0m\n",
      "\u001b[32m2025-08-14 21:21:37.682\u001b[0m | \u001b[1mINFO    \u001b[0m | \u001b[36moutboxml.core.utils\u001b[0m:\u001b[36msave_results\u001b[0m:\u001b[36m200\u001b[0m - \u001b[1mSaving||Features\u001b[0m\n",
      "\u001b[32m2025-08-14 21:21:37.683\u001b[0m | \u001b[1mINFO    \u001b[0m | \u001b[36moutboxml.core.utils\u001b[0m:\u001b[36msave_results\u001b[0m:\u001b[36m219\u001b[0m - \u001b[1mSaving||Model\u001b[0m\n",
      "\u001b[32m2025-08-14 21:21:37.684\u001b[0m | \u001b[1mINFO    \u001b[0m | \u001b[36moutboxml.core.utils\u001b[0m:\u001b[36msave_results\u001b[0m:\u001b[36m226\u001b[0m - \u001b[1mSaving||Metrics\u001b[0m\n",
      "\u001b[32m2025-08-14 21:21:37.807\u001b[0m | \u001b[1mINFO    \u001b[0m | \u001b[36moutboxml.core.utils\u001b[0m:\u001b[36msave_results\u001b[0m:\u001b[36m239\u001b[0m - \u001b[1mSaving||Predictions\u001b[0m\n",
      "/opt/conda/lib/python3.11/site-packages/pandas/io/parquet.py:190: UserWarning: The DataFrame has column names of mixed type. They will be converted to strings and not roundtrip correctly.\n",
      "  table = self.api.Table.from_pandas(df, **from_pandas_kwargs)\n",
      "\u001b[32m2025-08-14 21:21:37.820\u001b[0m | \u001b[34m\u001b[1mDEBUG   \u001b[0m | \u001b[36moutboxml.automl_manager\u001b[0m:\u001b[36msave_results\u001b[0m:\u001b[36m370\u001b[0m - \u001b[34m\u001b[1mLoading metrcis to grafana\u001b[0m\n",
      "\u001b[32m2025-08-14 21:21:37.821\u001b[0m | \u001b[33m\u001b[1mWARNING \u001b[0m | \u001b[36moutboxml.export_results\u001b[0m:\u001b[36m__init__\u001b[0m:\u001b[36m87\u001b[0m - \u001b[33m\u001b[1mDefault ENV config for export results\u001b[0m\n",
      "\u001b[32m2025-08-14 21:21:37.822\u001b[0m | \u001b[1mINFO    \u001b[0m | \u001b[36moutboxml.export_results\u001b[0m:\u001b[36mgrafana_export\u001b[0m:\u001b[36m284\u001b[0m - \u001b[1mCollecting data for Grafana\u001b[0m\n",
      "\u001b[32m2025-08-14 21:21:37.823\u001b[0m | \u001b[1mINFO    \u001b[0m | \u001b[36moutboxml.export_results\u001b[0m:\u001b[36mmetrics_df\u001b[0m:\u001b[36m315\u001b[0m - \u001b[1mPreparing metrics for heating\u001b[0m\n",
      "\u001b[32m2025-08-14 21:21:37.825\u001b[0m | \u001b[1mINFO    \u001b[0m | \u001b[36moutboxml.export_results\u001b[0m:\u001b[36mmetrics_df\u001b[0m:\u001b[36m315\u001b[0m - \u001b[1mPreparing metrics for heating\u001b[0m\n",
      "\u001b[32m2025-08-14 21:21:37.829\u001b[0m | \u001b[34m\u001b[1mDEBUG   \u001b[0m | \u001b[36moutboxml.export_results\u001b[0m:\u001b[36m__init__\u001b[0m:\u001b[36m448\u001b[0m - \u001b[34m\u001b[1mConnecting to  db..\u001b[0m\n",
      "\u001b[32m2025-08-14 21:21:37.888\u001b[0m | \u001b[34m\u001b[1mDEBUG   \u001b[0m | \u001b[36moutboxml.export_results\u001b[0m:\u001b[36m__init__\u001b[0m:\u001b[36m453\u001b[0m - \u001b[34m\u001b[1mConnection completed\u001b[0m\n",
      "\u001b[32m2025-08-14 21:21:37.889\u001b[0m | \u001b[34m\u001b[1mDEBUG   \u001b[0m | \u001b[36moutboxml.export_results\u001b[0m:\u001b[36mload_data_to_db\u001b[0m:\u001b[36m457\u001b[0m - \u001b[34m\u001b[1mLoading data to db..\u001b[0m\n",
      "\u001b[32m2025-08-14 21:21:37.910\u001b[0m | \u001b[31m\u001b[1mERROR   \u001b[0m | \u001b[36moutboxml.automl_manager\u001b[0m:\u001b[36msave_results\u001b[0m:\u001b[36m377\u001b[0m - \u001b[31m\u001b[1mgrafana export error||(psycopg2.errors.DuplicateTable) relation \"EnergyEfficiency\" already exists\n",
      "\n",
      "[SQL: \n",
      "CREATE TABLE \"EnergyEfficiency\" (\n",
      "\t\"TARGET_SLICE\" TEXT, \n",
      "\tmae FLOAT(53), \n",
      "\trmse FLOAT(53), \n",
      "\tr2 FLOAT(53), \n",
      "\t\"TYPE\" TEXT, \n",
      "\t\"MODEL\" TEXT, \n",
      "\t\"CALCULATION_DATETIME\" TIMESTAMP WITHOUT TIME ZONE\n",
      ")\n",
      "\n",
      "]\n",
      "(Background on this error at: https://sqlalche.me/e/20/f405)\u001b[0m\n",
      "\u001b[32m2025-08-14 21:21:37.911\u001b[0m | \u001b[31m\u001b[1mERROR   \u001b[0m | \u001b[36moutboxml.automl_manager\u001b[0m:\u001b[36mcompare_with_previous\u001b[0m:\u001b[36m383\u001b[0m - \u001b[31m\u001b[1mNo model to compare\u001b[0m\n",
      "\u001b[32m2025-08-14 21:21:37.912\u001b[0m | \u001b[33m\u001b[1mWARNING \u001b[0m | \u001b[36moutboxml.export_results\u001b[0m:\u001b[36m__init__\u001b[0m:\u001b[36m87\u001b[0m - \u001b[33m\u001b[1mDefault ENV config for export results\u001b[0m\n",
      "\u001b[32m2025-08-14 21:21:37.913\u001b[0m | \u001b[1mINFO    \u001b[0m | \u001b[36moutboxml.export_results\u001b[0m:\u001b[36mmetrics_df\u001b[0m:\u001b[36m315\u001b[0m - \u001b[1mPreparing metrics for heating\u001b[0m\n",
      "\u001b[32m2025-08-14 21:21:37.914\u001b[0m | \u001b[1mINFO    \u001b[0m | \u001b[36moutboxml.export_results\u001b[0m:\u001b[36mmetrics_df\u001b[0m:\u001b[36m315\u001b[0m - \u001b[1mPreparing metrics for heating\u001b[0m\n",
      "\u001b[32m2025-08-14 21:21:37.918\u001b[0m | \u001b[1mINFO    \u001b[0m | \u001b[36moutboxml.plots\u001b[0m:\u001b[36mdf_for_plots\u001b[0m:\u001b[36m36\u001b[0m - \u001b[1mCollecting data for plots\u001b[0m\n",
      "\u001b[32m2025-08-14 21:21:37.921\u001b[0m | \u001b[1mINFO    \u001b[0m | \u001b[36moutboxml.plots\u001b[0m:\u001b[36mmake\u001b[0m:\u001b[36m115\u001b[0m - \u001b[1mCohort plot heating\u001b[0m\n",
      "\u001b[32m2025-08-14 21:21:37.922\u001b[0m | \u001b[33m\u001b[1mWARNING \u001b[0m | \u001b[36moutboxml.plots\u001b[0m:\u001b[36mcohort_plot\u001b[0m:\u001b[36m127\u001b[0m - \u001b[33m\u001b[1mNo exposure for cohort plot||Exposure=1 vector added\u001b[0m\n",
      "/home/jovyan/work/examples/energy_efficiency/../../outboxml/plots.py:144: FutureWarning: A value is trying to be set on a copy of a DataFrame or Series through chained assignment using an inplace method.\n",
      "The behavior will change in pandas 3.0. This inplace method will never work because the intermediate object on which we are setting values always behaves as a copy.\n",
      "\n",
      "For example, when doing 'df[col].method(value, inplace=True)', try using 'df.method({col: value}, inplace=True)' or df[col] = df[col].method(value) instead, to perform the operation inplace on the original object.\n",
      "\n",
      "\n",
      "  df[\"predict_gr\"].clip(lower=df[\"predict_gr\"].quantile(cut_min_value),\n",
      "/home/jovyan/work/examples/energy_efficiency/../../outboxml/plots.py:152: FutureWarning: A value is trying to be set on a copy of a DataFrame or Series through chained assignment using an inplace method.\n",
      "The behavior will change in pandas 3.0. This inplace method will never work because the intermediate object on which we are setting values always behaves as a copy.\n",
      "\n",
      "For example, when doing 'df[col].method(value, inplace=True)', try using 'df.method({col: value}, inplace=True)' or df[col] = df[col].method(value) instead, to perform the operation inplace on the original object.\n",
      "\n",
      "\n",
      "  df[\"predict_gr\"].clip(lower=df[\"predict_gr\"].quantile(cut_min_value),\n",
      "/home/jovyan/work/examples/energy_efficiency/../../outboxml/plots.py:152: FutureWarning: A value is trying to be set on a copy of a DataFrame or Series through chained assignment using an inplace method.\n",
      "The behavior will change in pandas 3.0. This inplace method will never work because the intermediate object on which we are setting values always behaves as a copy.\n",
      "\n",
      "For example, when doing 'df[col].method(value, inplace=True)', try using 'df.method({col: value}, inplace=True)' or df[col] = df[col].method(value) instead, to perform the operation inplace on the original object.\n",
      "\n",
      "\n",
      "  df[\"predict_gr\"].clip(lower=df[\"predict_gr\"].quantile(cut_min_value),\n",
      "/home/jovyan/work/examples/energy_efficiency/../../outboxml/plots.py:152: FutureWarning: A value is trying to be set on a copy of a DataFrame or Series through chained assignment using an inplace method.\n",
      "The behavior will change in pandas 3.0. This inplace method will never work because the intermediate object on which we are setting values always behaves as a copy.\n",
      "\n",
      "For example, when doing 'df[col].method(value, inplace=True)', try using 'df.method({col: value}, inplace=True)' or df[col] = df[col].method(value) instead, to perform the operation inplace on the original object.\n",
      "\n",
      "\n",
      "  df[\"predict_gr\"].clip(lower=df[\"predict_gr\"].quantile(cut_min_value),\n",
      "/home/jovyan/work/examples/energy_efficiency/../../outboxml/plots.py:152: FutureWarning: A value is trying to be set on a copy of a DataFrame or Series through chained assignment using an inplace method.\n",
      "The behavior will change in pandas 3.0. This inplace method will never work because the intermediate object on which we are setting values always behaves as a copy.\n",
      "\n",
      "For example, when doing 'df[col].method(value, inplace=True)', try using 'df.method({col: value}, inplace=True)' or df[col] = df[col].method(value) instead, to perform the operation inplace on the original object.\n",
      "\n",
      "\n",
      "  df[\"predict_gr\"].clip(lower=df[\"predict_gr\"].quantile(cut_min_value),\n",
      "\u001b[32m2025-08-14 21:21:38.052\u001b[0m | \u001b[34m\u001b[1mDEBUG   \u001b[0m | \u001b[36moutboxml.metrics.business_metrics\u001b[0m:\u001b[36mcalculate_metric\u001b[0m:\u001b[36m71\u001b[0m - \u001b[34m\u001b[1mCompare business metric||Calculating\u001b[0m\n",
      "\u001b[32m2025-08-14 21:21:38.053\u001b[0m | \u001b[34m\u001b[1mDEBUG   \u001b[0m | \u001b[36moutboxml.metrics.business_metrics\u001b[0m:\u001b[36mcalculate_metric\u001b[0m:\u001b[36m72\u001b[0m - \u001b[34m\u001b[1mCompare business metric||minimize\u001b[0m\n",
      "\u001b[32m2025-08-14 21:21:38.058\u001b[0m | \u001b[1mINFO    \u001b[0m | \u001b[36moutboxml.metrics.business_metrics\u001b[0m:\u001b[36m_model_data\u001b[0m:\u001b[36m19\u001b[0m - \u001b[1mCollecting data for plots\u001b[0m\n",
      "\u001b[32m2025-08-14 21:21:38.188\u001b[0m | \u001b[1mINFO    \u001b[0m | \u001b[36moutboxml.automl_manager\u001b[0m:\u001b[36mcompare_with_previous\u001b[0m:\u001b[36m397\u001b[0m - \u001b[1m{'first_model': {'metric': 0.14911646207331586, 'threshold': 10.987509649406551}, 'second_model': {'metric': None, 'threshold': None}, 'difference': None}\u001b[0m\n",
      "\u001b[32m2025-08-14 21:21:38.189\u001b[0m | \u001b[34m\u001b[1mDEBUG   \u001b[0m | \u001b[36moutboxml.automl_manager\u001b[0m:\u001b[36mcompare_with_previous\u001b[0m:\u001b[36m398\u001b[0m - \u001b[34m\u001b[1mComparing models is completed\u001b[0m\n",
      "\u001b[32m2025-08-14 21:21:38.190\u001b[0m | \u001b[1mINFO    \u001b[0m | \u001b[36moutboxml.automl_manager\u001b[0m:\u001b[36mdeployment\u001b[0m:\u001b[36m412\u001b[0m - \u001b[1mCurrent compare business metric value: None\u001b[0m\n",
      "\u001b[32m2025-08-14 21:21:38.190\u001b[0m | \u001b[1mINFO    \u001b[0m | \u001b[36moutboxml.automl_manager\u001b[0m:\u001b[36mdeployment\u001b[0m:\u001b[36m434\u001b[0m - \u001b[1mDeployment decision: True\u001b[0m\n",
      "\u001b[32m2025-08-14 21:21:38.210\u001b[0m | \u001b[34m\u001b[1mDEBUG   \u001b[0m | \u001b[36moutboxml.automl_manager\u001b[0m:\u001b[36mlog_results\u001b[0m:\u001b[36m88\u001b[0m - \u001b[34m\u001b[1mExporting results to MLFlow\u001b[0m\n",
      "2025/08/14 21:21:38 WARNING mlflow.utils.git_utils: Failed to import Git (the Git executable is probably not on your PATH), so Git SHA is not available. Error: Failed to initialize: Bad git executable.\n",
      "The git executable must be specified in one of the following ways:\n",
      "    - be included in your $PATH\n",
      "    - be set via $GIT_PYTHON_GIT_EXECUTABLE\n",
      "    - explicitly set via git.refresh(<full-path-to-git-executable>)\n",
      "\n",
      "All git commands will error until this is rectified.\n",
      "\n",
      "This initial message can be silenced or aggravated in the future by setting the\n",
      "$GIT_PYTHON_REFRESH environment variable. Use one of the following values:\n",
      "    - quiet|q|silence|s|silent|none|n|0: for no message or exception\n",
      "    - warn|w|warning|log|l|1: for a warning message (logging level CRITICAL, displayed by default)\n",
      "    - error|e|exception|raise|r|2: for a raised exception\n",
      "\n",
      "Example:\n",
      "    export GIT_PYTHON_REFRESH=quiet\n",
      "\n",
      "2025/08/14 21:21:38 INFO mlflow.tracking._tracking_service.client: 🏃 View run heating at: http://mlflow:5000/#/experiments/831608792142114697/runs/9e67a113854c4639aafaae729100c878.\n",
      "2025/08/14 21:21:38 INFO mlflow.tracking._tracking_service.client: 🧪 View experiment at: http://mlflow:5000/#/experiments/831608792142114697.\n"
     ]
    },
    {
     "name": "stdout",
     "output_type": "stream",
     "text": [
      "Report saved to: /home/jovyan/work/results/automl_report.html\n"
     ]
    },
    {
     "name": "stderr",
     "output_type": "stream",
     "text": [
      "2025/08/14 21:21:38 INFO mlflow.tracking._tracking_service.client: 🏃 View run example_energy-efficiency2025-08-14 21:16:52.578774 at: http://mlflow:5000/#/experiments/831608792142114697/runs/7b647aefac284ec893fc7ec8b5149520.\n",
      "2025/08/14 21:21:38 INFO mlflow.tracking._tracking_service.client: 🧪 View experiment at: http://mlflow:5000/#/experiments/831608792142114697.\n",
      "\u001b[32m2025-08-14 21:21:38.421\u001b[0m | \u001b[34m\u001b[1mDEBUG   \u001b[0m | \u001b[36moutboxml.automl_manager\u001b[0m:\u001b[36mupdate_models\u001b[0m:\u001b[36m270\u001b[0m - \u001b[34m\u001b[1mUpdating models is finished||{'Loading dataset': True, 'Feature selection': True, 'HP tuning': True, 'Fitting': True, 'Compare with previous': True, 'Deployment decision': True, 'Loading results to MLFLow': True, 'EMail Review': False}\u001b[0m\n"
     ]
    },
    {
     "data": {
      "text/plain": [
       "<outboxml.automl_manager.AutoMLResult at 0x7f6926816190>"
      ]
     },
     "execution_count": 4,
     "metadata": {},
     "output_type": "execute_result"
    }
   ],
   "source": [
    "from outboxml.automl_manager import AutoMLManager\n",
    "\n",
    "config_name = './configs/config-energy-efficiency-basic.json'\n",
    "auto_ml_config = './configs/automl-energy-efficiency-automl.json'\n",
    "\n",
    "auto_ml = AutoMLManager(auto_ml_config=auto_ml_config,models_config=config_name)\n",
    "auto_ml.update_models()"
   ]
  },
  {
   "cell_type": "code",
   "execution_count": 5,
   "id": "41d085ad-d841-4197-bc8a-18498b3b285b",
   "metadata": {},
   "outputs": [
    {
     "data": {
      "text/plain": [
       "{'train': {'full': {'mae': 0.3055, 'rmse': 0.4258, 'r2': 0.9982}},\n",
       " 'test': {'full': {'mae': 0.4384, 'rmse': 0.7499, 'r2': 0.9945}}}"
      ]
     },
     "execution_count": 5,
     "metadata": {},
     "output_type": "execute_result"
    }
   ],
   "source": [
    "auto_ml.get_result()['heating'].metrics"
   ]
  }
 ],
 "metadata": {
  "kernelspec": {
   "display_name": "Python 3 (ipykernel)",
   "language": "python",
   "name": "python3"
  },
  "language_info": {
   "codemirror_mode": {
    "name": "ipython",
    "version": 3
   },
   "file_extension": ".py",
   "mimetype": "text/x-python",
   "name": "python",
   "nbconvert_exporter": "python",
   "pygments_lexer": "ipython3",
   "version": "3.11.6"
  }
 },
 "nbformat": 4,
 "nbformat_minor": 5
}
