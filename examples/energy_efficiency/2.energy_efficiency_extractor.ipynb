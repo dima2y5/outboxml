{
 "cells": [
  {
   "cell_type": "code",
   "execution_count": null,
   "id": "97c15b6a-d533-4f33-95a0-9118c23db6ec",
   "metadata": {},
   "outputs": [],
   "source": [
    "import sys\n",
    "sys.path.append(\"../../\")\n",
    "sys.path.append(\"../../outboxml\")"
   ]
  },
  {
   "cell_type": "code",
   "execution_count": null,
   "id": "86c32ee5-34be-4a5d-920f-cad26d2532ce",
   "metadata": {},
   "outputs": [],
   "source": [
    "import pandas as pd\n",
    "import numpy as np\n",
    "\n",
    "from outboxml.automl_manager import AutoMLManager\n",
    "from outboxml.extractors import Extractor\n",
    "\n",
    "\n",
    "import config\n",
    "from outboxml.metrics.base_metrics import BaseMetric\n",
    "from outboxml.metrics.business_metrics import BaseCompareBusinessMetric"
   ]
  },
  {
   "cell_type": "code",
   "execution_count": null,
   "id": "5dc45c37-ca9f-4aae-82b8-d95f463056b0",
   "metadata": {},
   "outputs": [],
   "source": [
    "class EnergyEfficiencyExtractor(Extractor):\n",
    "    def __init__(self,\n",
    "                 path_to_file: str\n",
    "                 ):\n",
    "        self.__path_to_file = path_to_file\n",
    "        super().__init__()\n",
    "\n",
    "    def extract_dataset(self) -> pd.DataFrame:\n",
    "        data = pd.read_csv(self.__path_to_file)\n",
    "        #Transform targets to one Energy Efficiency Index (EEI) using EEI = (Heating_Load + Cooling_Load) / Surface_Area\n",
    "        data['EEI'] = (data['Heating Load'] + data['Cooling Load'])/data['Surface Area']\n",
    "        \n",
    "        #Combine Wall Area and Roof Area \n",
    "        data['Wall_Roof_Ratio'] = data['Wall Area'] / data['Roof Area']\n",
    "        #Combine compactness with height\n",
    "        data['Compactness_Height'] = data['Relative Compactness'] * data['Overall Height']\n",
    "\n",
    "        final_features = ['Wall_Roof_Ratio',  'Compactness_Height','Glazing Area Distribution','Orientation', 'EEI']\n",
    "        return data[final_features]  \n",
    " \n",
    "class EnergyEfficiencyMetrics(BaseMetric):\n",
    "    def __init__(self):\n",
    "        pass\n",
    "\n",
    "    def calculate_metric(self, result1: dict, result2: dict = None) -> dict:\n",
    "        y_true = result1['EEI'].y\n",
    "        y_pred = result1['EEI'].y_pred\n",
    "        \n",
    "        return {'MAPE': np.mean(np.abs((y_true - y_pred) / y_true)) * 100}\n",
    "        \n",
    "config_name = './configs/config-energy-efficiency-extractor.json'\n",
    "auto_ml_config = './configs/automl-energy-efficiency-automl.json'"
   ]
  },
  {
   "cell_type": "code",
   "execution_count": null,
   "id": "2f1d7b03-8878-4051-883f-a966bdbecaf9",
   "metadata": {},
   "outputs": [],
   "source": [
    "auto_ml = AutoMLManager(auto_ml_config=auto_ml_config,\n",
    "                        models_config=config_name,\n",
    "                        business_metric=EnergyEfficiencyMetrics(),\n",
    "                        external_config=config,\n",
    "                        extractor=EnergyEfficiencyExtractor(path_to_file=\"data/ENB2012_data.csv\"),\n",
    "                        compare_business_metric=BaseCompareBusinessMetric(),\n",
    "                        save_temp=False,\n",
    "                        hp_tune=False,\n",
    "                        )\n",
    "auto_ml.update_models(send_mail=False)"
   ]
  },
  {
   "cell_type": "code",
   "execution_count": null,
   "id": "f0ec00db-3159-4bb8-aead-ce842a6ef0fa",
   "metadata": {},
   "outputs": [],
   "source": [
    "from outboxml.export_results import ResultExport\n",
    "ResultExport(ds_manager=auto_ml).plots('EEI',  features = ['Wall_Roof_Ratio'], bins_for_numerical_features = 3)"
   ]
  },
  {
   "cell_type": "code",
   "execution_count": null,
   "id": "7708a400-ba82-4031-83c7-799b52193f38",
   "metadata": {},
   "outputs": [],
   "source": [
    "ResultExport(ds_manager=auto_ml).plots('EEI',plot_type = 0)"
   ]
  },
  {
   "cell_type": "code",
   "execution_count": null,
   "id": "296e274d-5185-4808-9458-5afeaa95f57a",
   "metadata": {},
   "outputs": [],
   "source": [
    "!pip install seaborn\n",
    "import matplotlib.pyplot as plt\n",
    "import seaborn as sns\n",
    "    \n",
    "def plot_info(df1, df2=None, model_name=None, features=None, bins=None):\n",
    "    sns.set(style=\"whitegrid\", font_scale=1.2)\n",
    "    plt.figure(figsize=(8, 6))\n",
    "    sns.scatterplot(x=df1['y_true'], y=df1['y_prediction'], color='royalblue', alpha=0.6)\n",
    "    \n",
    "    min_val = min(df1['y_true'].min(), df1['y_prediction'].min())\n",
    "    max_val = max(df1['y_true'].max(), df1['y_prediction'].max())\n",
    "    plt.plot([min_val, max_val], [min_val, max_val], color='red', linestyle='--', label='Perfect Prediction')\n",
    "    \n",
    "    plt.xlabel(\"EEI True Values\")\n",
    "    plt.ylabel(\"EEI Predicted Values\")\n",
    "    plt.title(\"True vs Predicted Values\")\n",
    "    plt.legend()\n",
    "    plt.tight_layout()\n",
    "    plt.show()\n",
    "    \n",
    "ResultExport(ds_manager=auto_ml).plots('EEI', user_plot_func = plot_info  )"
   ]
  }
 ],
 "metadata": {
  "kernelspec": {
   "display_name": "Python 3 (ipykernel)",
   "language": "python",
   "name": "python3"
  },
  "language_info": {
   "codemirror_mode": {
    "name": "ipython",
    "version": 3
   },
   "file_extension": ".py",
   "mimetype": "text/x-python",
   "name": "python",
   "nbconvert_exporter": "python",
   "pygments_lexer": "ipython3",
   "version": "3.11.6"
  }
 },
 "nbformat": 4,
 "nbformat_minor": 5
}
